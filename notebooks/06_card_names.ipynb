{
 "cells": [
  {
   "cell_type": "markdown",
   "metadata": {},
   "source": [
    "# Naming the Tarot Cards\n",
    "\n",
    "Using the keywords I scraped, I'll randomly generate some candidates for tarot card names to match with my GPT-2 output. \n"
   ]
  },
  {
   "cell_type": "code",
   "execution_count": 1,
   "metadata": {
    "ExecuteTime": {
     "end_time": "2020-12-01T00:17:14.578144Z",
     "start_time": "2020-12-01T00:17:14.188533Z"
    }
   },
   "outputs": [],
   "source": [
    "import pandas as pd\n",
    "import random"
   ]
  },
  {
   "cell_type": "markdown",
   "metadata": {},
   "source": [
    "## Keyword Setup\n",
    "\n",
    "### Importing keywords list"
   ]
  },
  {
   "cell_type": "code",
   "execution_count": 2,
   "metadata": {
    "ExecuteTime": {
     "end_time": "2020-12-01T00:17:15.613981Z",
     "start_time": "2020-12-01T00:17:15.609486Z"
    }
   },
   "outputs": [],
   "source": [
    "with open('../data_files/texts/keywords.txt') as f:\n",
    "    keywords = f.read().split('\\n')"
   ]
  },
  {
   "cell_type": "code",
   "execution_count": 3,
   "metadata": {
    "ExecuteTime": {
     "end_time": "2020-12-01T00:17:16.803916Z",
     "start_time": "2020-12-01T00:17:16.793980Z"
    }
   },
   "outputs": [
    {
     "data": {
      "text/plain": [
       "['Resistant',\n",
       " 'Cranky',\n",
       " 'lifelink',\n",
       " 'The Devil',\n",
       " 'charm',\n",
       " 'oppression',\n",
       " 'The Hierophant',\n",
       " 'capability',\n",
       " 'Passionate',\n",
       " 'Four of Swords',\n",
       " 'Excited',\n",
       " 'Invigorated',\n",
       " 'Abounding ',\n",
       " 'Abundance',\n",
       " 'Three of Wands']"
      ]
     },
     "execution_count": 3,
     "metadata": {},
     "output_type": "execute_result"
    }
   ],
   "source": [
    "keywords[:15]"
   ]
  },
  {
   "cell_type": "markdown",
   "metadata": {},
   "source": [
    "### Importing Rider-Waite card information\n",
    "\n",
    "I want to keep the scraped keywords, but remove any existing Tarot card names so that I have new names for my cards."
   ]
  },
  {
   "cell_type": "code",
   "execution_count": 4,
   "metadata": {
    "ExecuteTime": {
     "end_time": "2020-12-01T00:17:19.568468Z",
     "start_time": "2020-12-01T00:17:18.416400Z"
    }
   },
   "outputs": [],
   "source": [
    "rw = pd.read_json('../data_files/tarot_rw.json', orient='records')\n",
    "rw = pd.json_normalize(rw['cards'])"
   ]
  },
  {
   "cell_type": "code",
   "execution_count": 5,
   "metadata": {
    "ExecuteTime": {
     "end_time": "2020-12-01T00:17:20.111671Z",
     "start_time": "2020-12-01T00:17:20.103483Z"
    }
   },
   "outputs": [],
   "source": [
    "keywords = [word.lower() for word in keywords if word not in rw['name'].tolist()]"
   ]
  },
  {
   "cell_type": "code",
   "execution_count": 6,
   "metadata": {
    "ExecuteTime": {
     "end_time": "2020-12-01T00:17:21.107297Z",
     "start_time": "2020-12-01T00:17:21.102917Z"
    }
   },
   "outputs": [
    {
     "name": "stdout",
     "output_type": "stream",
     "text": [
      "Number of keywords: 909\n",
      "\n",
      "['resistant', 'cranky', 'lifelink', 'charm', 'oppression', 'capability', 'passionate', 'excited', 'invigorated', 'abounding ', 'abundance', 'revolution', 'burned out', 'intelligence', 'impotent', 'join forces', 'pounding', 'blessed', 'intuition', 'refreshed', 'releasing', 'awe', 'focus', 'airy', 'enthusiasm']\n"
     ]
    }
   ],
   "source": [
    "print(f'Number of keywords: {len(keywords)}\\n')\n",
    "\n",
    "print(keywords[:25])"
   ]
  },
  {
   "cell_type": "markdown",
   "metadata": {},
   "source": [
    "## Randomly generating card titles\n",
    "\n",
    "Generating 78 random card names to be used to name my new major arcana. The tarot deck consists of 78 cards -- 22 in the Major Arcana, and 56 in the Minor Arcana. I'm only trying to create 22 new cards, but I want to have some options!"
   ]
  },
  {
   "cell_type": "code",
   "execution_count": 8,
   "metadata": {
    "ExecuteTime": {
     "end_time": "2020-12-01T00:17:37.635679Z",
     "start_time": "2020-12-01T00:17:37.629994Z"
    }
   },
   "outputs": [
    {
     "name": "stdout",
     "output_type": "stream",
     "text": [
      "The Remorseful\n",
      "The Selfishness\n",
      "The Wither\n",
      "The Invigorated\n",
      "The Heroic\n",
      "The Hexproof\n",
      "The Riot\n",
      "The Suffocated\n",
      "The People \n",
      "The Graft\n",
      "The Furious\n",
      "The Nervous\n",
      "The Persist\n",
      "The Law\n",
      "The Divine Madman\n",
      "The Great Invigorating \n",
      "The Cohort\n",
      "The Fateseal\n",
      "The Pissed\n",
      "The Spectacle\n",
      "The Converge\n",
      "The Ungrounded\n",
      "The Beginning\n",
      "The Perplexed\n",
      "The Fluttery\n",
      "The Proliferate\n",
      "The Bushido\n",
      "The Great Accumulating \n",
      "The Encouraged\n",
      "The Truth\n",
      "The Cycling\n",
      "The Small \n",
      "The Sexual Awakening\n",
      "The Great Exceeding \n",
      "The Concording \n",
      "The Grouchy\n",
      "The Toughness\n",
      "The Sore\n",
      "The Loyalty\n",
      "The Realism\n",
      "The Frightened\n",
      "The Victorious Hero\n",
      "The Contracted\n",
      "The Mindset\n",
      "The On Edge\n",
      "The Assumptions\n",
      "The Planeswalk\n",
      "The Transform\n",
      "The Student\n",
      "The Arguing \n",
      "The Reinforce\n",
      "The Fullness\n",
      "The Crisis\n",
      "The Provoke\n",
      "The Success\n",
      "The Skill\n",
      "The Karma\n",
      "The Listless\n",
      "The Union\n",
      "The Arousing\n",
      "The Polarising Opposition\n",
      "The Unleash\n",
      "The Useless\n",
      "The Humbling \n",
      "The Aura Swap\n",
      "The Will Of The Council\n",
      "The Heartbroken\n",
      "The Renewed\n",
      "The Completion\n",
      "The Trusting\n",
      "The Soulshift\n",
      "The Fortify\n",
      "The Splitting Apart\n",
      "The Infiltrating \n",
      "The Enchant\n",
      "The Fabricate\n",
      "The Release\n",
      "The Coupling \n"
     ]
    }
   ],
   "source": [
    "samples = random.sample(keywords, 78)\n",
    "\n",
    "for sample in samples:\n",
    "    if sample[:3] == 'the':\n",
    "        print(f'{sample.title()}')\n",
    "    else:\n",
    "        print(f'The {sample.title()}')"
   ]
  },
  {
   "cell_type": "markdown",
   "metadata": {},
   "source": [
    "These look great, and they should work nicely with my GPT-2 output text."
   ]
  },
  {
   "cell_type": "code",
   "execution_count": 9,
   "metadata": {
    "ExecuteTime": {
     "end_time": "2020-12-01T00:20:15.787670Z",
     "start_time": "2020-12-01T00:20:15.784394Z"
    }
   },
   "outputs": [],
   "source": [
    "with open(\"../data_files/texts/name_list.txt\", mode='wt', encoding='utf-8') as myfile:\n",
    "    myfile.write('\\n'.join(samples))"
   ]
  }
 ],
 "metadata": {
  "kernelspec": {
   "display_name": "Python [conda env:metis] *",
   "language": "python",
   "name": "conda-env-metis-py"
  },
  "language_info": {
   "codemirror_mode": {
    "name": "ipython",
    "version": 3
   },
   "file_extension": ".py",
   "mimetype": "text/x-python",
   "name": "python",
   "nbconvert_exporter": "python",
   "pygments_lexer": "ipython3",
   "version": "3.8.5"
  },
  "toc": {
   "base_numbering": 1,
   "nav_menu": {},
   "number_sections": true,
   "sideBar": true,
   "skip_h1_title": false,
   "title_cell": "Table of Contents",
   "title_sidebar": "Contents",
   "toc_cell": false,
   "toc_position": {},
   "toc_section_display": true,
   "toc_window_display": true
  },
  "varInspector": {
   "cols": {
    "lenName": 16,
    "lenType": 16,
    "lenVar": 40
   },
   "kernels_config": {
    "python": {
     "delete_cmd_postfix": "",
     "delete_cmd_prefix": "del ",
     "library": "var_list.py",
     "varRefreshCmd": "print(var_dic_list())"
    },
    "r": {
     "delete_cmd_postfix": ") ",
     "delete_cmd_prefix": "rm(",
     "library": "var_list.r",
     "varRefreshCmd": "cat(var_dic_list()) "
    }
   },
   "types_to_exclude": [
    "module",
    "function",
    "builtin_function_or_method",
    "instance",
    "_Feature"
   ],
   "window_display": false
  }
 },
 "nbformat": 4,
 "nbformat_minor": 4
}
