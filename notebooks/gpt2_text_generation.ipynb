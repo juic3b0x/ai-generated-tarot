{
  "nbformat": 4,
  "nbformat_minor": 0,
  "metadata": {
    "colab": {
      "name": "gpt2_text_generation.ipynb",
      "provenance": [],
      "collapsed_sections": [],
      "toc_visible": true,
      "machine_shape": "hm"
    },
    "kernelspec": {
      "name": "python3",
      "display_name": "Python 3"
    },
    "accelerator": "GPU"
  },
  "cells": [
    {
      "cell_type": "markdown",
      "metadata": {
        "id": "PKd4kAzvYHvo"
      },
      "source": [
        "# Generating tarot meanings, interpretations, and questions\n",
        "\n",
        "Now that the GPT-2 model has been re-trained on the divination texts, it's time to start generating new tarot meanings, interpreations, and questions!\n",
        "\n"
      ]
    },
    {
      "cell_type": "markdown",
      "metadata": {
        "id": "KEit71SzmBQQ"
      },
      "source": [
        "## Setup"
      ]
    },
    {
      "cell_type": "code",
      "metadata": {
        "colab": {
          "base_uri": "https://localhost:8080/"
        },
        "id": "NKv6uTa2YNb8",
        "outputId": "3c2f90cf-a11b-4dbb-f725-244706a15e78"
      },
      "source": [
        "# GPU Check\n",
        "!nvidia-smi"
      ],
      "execution_count": null,
      "outputs": [
        {
          "output_type": "stream",
          "text": [
            "Fri Nov 27 23:53:34 2020       \n",
            "+-----------------------------------------------------------------------------+\n",
            "| NVIDIA-SMI 455.38       Driver Version: 418.67       CUDA Version: 10.1     |\n",
            "|-------------------------------+----------------------+----------------------+\n",
            "| GPU  Name        Persistence-M| Bus-Id        Disp.A | Volatile Uncorr. ECC |\n",
            "| Fan  Temp  Perf  Pwr:Usage/Cap|         Memory-Usage | GPU-Util  Compute M. |\n",
            "|                               |                      |               MIG M. |\n",
            "|===============================+======================+======================|\n",
            "|   0  Tesla P100-PCIE...  Off  | 00000000:00:04.0 Off |                    0 |\n",
            "| N/A   42C    P0    27W / 250W |      0MiB / 16280MiB |      0%      Default |\n",
            "|                               |                      |                 ERR! |\n",
            "+-------------------------------+----------------------+----------------------+\n",
            "                                                                               \n",
            "+-----------------------------------------------------------------------------+\n",
            "| Processes:                                                                  |\n",
            "|  GPU   GI   CI        PID   Type   Process name                  GPU Memory |\n",
            "|        ID   ID                                                   Usage      |\n",
            "|=============================================================================|\n",
            "|  No running processes found                                                 |\n",
            "+-----------------------------------------------------------------------------+\n"
          ],
          "name": "stdout"
        }
      ]
    },
    {
      "cell_type": "code",
      "metadata": {
        "id": "vIRCi7Z0X8tt"
      },
      "source": [
        "# %%capture\n",
        "# !pip install transformers\n",
        "import transformers"
      ],
      "execution_count": null,
      "outputs": []
    },
    {
      "cell_type": "code",
      "metadata": {
        "colab": {
          "base_uri": "https://localhost:8080/"
        },
        "id": "pgWWzjbcYHYw",
        "outputId": "b08d0ef3-a973-476b-9db9-12e84b9db3a1"
      },
      "source": [
        "from google.colab import drive\n",
        "drive.mount('/content/drive')"
      ],
      "execution_count": null,
      "outputs": [
        {
          "output_type": "stream",
          "text": [
            "Drive already mounted at /content/drive; to attempt to forcibly remount, call drive.mount(\"/content/drive\", force_remount=True).\n"
          ],
          "name": "stdout"
        }
      ]
    },
    {
      "cell_type": "code",
      "metadata": {
        "id": "tMeRKP8FYHV_"
      },
      "source": [
        "import pandas as pd\n",
        "import numpy as np\n",
        "\n",
        "import gensim\n",
        "\n",
        "import torch\n",
        "from transformers import GPT2LMHeadModel, GPT2Tokenizer"
      ],
      "execution_count": null,
      "outputs": []
    },
    {
      "cell_type": "markdown",
      "metadata": {
        "id": "hH9IOJhticJK"
      },
      "source": [
        "Importing the saved GPT-2 model"
      ]
    },
    {
      "cell_type": "code",
      "metadata": {
        "colab": {
          "base_uri": "https://localhost:8080/"
        },
        "id": "jxfz9cq0YHTi",
        "outputId": "cfcce029-ff3c-4af8-b152-891b92da1d12"
      },
      "source": [
        "output_dir = '/content/drive/MyDrive/gpt2/models/model_2'\n",
        "\n",
        "device = torch.device(\"cuda\")\n",
        "\n",
        "# to load model: \n",
        "gpt2model = GPT2LMHeadModel.from_pretrained(output_dir)\n",
        "gpt2tokenizer = GPT2Tokenizer.from_pretrained(output_dir)\n",
        "gpt2model.to(device)"
      ],
      "execution_count": null,
      "outputs": [
        {
          "output_type": "execute_result",
          "data": {
            "text/plain": [
              "GPT2LMHeadModel(\n",
              "  (transformer): GPT2Model(\n",
              "    (wte): Embedding(50259, 768)\n",
              "    (wpe): Embedding(1024, 768)\n",
              "    (drop): Dropout(p=0.1, inplace=False)\n",
              "    (h): ModuleList(\n",
              "      (0): Block(\n",
              "        (ln_1): LayerNorm((768,), eps=1e-05, elementwise_affine=True)\n",
              "        (attn): Attention(\n",
              "          (c_attn): Conv1D()\n",
              "          (c_proj): Conv1D()\n",
              "          (attn_dropout): Dropout(p=0.1, inplace=False)\n",
              "          (resid_dropout): Dropout(p=0.1, inplace=False)\n",
              "        )\n",
              "        (ln_2): LayerNorm((768,), eps=1e-05, elementwise_affine=True)\n",
              "        (mlp): MLP(\n",
              "          (c_fc): Conv1D()\n",
              "          (c_proj): Conv1D()\n",
              "          (dropout): Dropout(p=0.1, inplace=False)\n",
              "        )\n",
              "      )\n",
              "      (1): Block(\n",
              "        (ln_1): LayerNorm((768,), eps=1e-05, elementwise_affine=True)\n",
              "        (attn): Attention(\n",
              "          (c_attn): Conv1D()\n",
              "          (c_proj): Conv1D()\n",
              "          (attn_dropout): Dropout(p=0.1, inplace=False)\n",
              "          (resid_dropout): Dropout(p=0.1, inplace=False)\n",
              "        )\n",
              "        (ln_2): LayerNorm((768,), eps=1e-05, elementwise_affine=True)\n",
              "        (mlp): MLP(\n",
              "          (c_fc): Conv1D()\n",
              "          (c_proj): Conv1D()\n",
              "          (dropout): Dropout(p=0.1, inplace=False)\n",
              "        )\n",
              "      )\n",
              "      (2): Block(\n",
              "        (ln_1): LayerNorm((768,), eps=1e-05, elementwise_affine=True)\n",
              "        (attn): Attention(\n",
              "          (c_attn): Conv1D()\n",
              "          (c_proj): Conv1D()\n",
              "          (attn_dropout): Dropout(p=0.1, inplace=False)\n",
              "          (resid_dropout): Dropout(p=0.1, inplace=False)\n",
              "        )\n",
              "        (ln_2): LayerNorm((768,), eps=1e-05, elementwise_affine=True)\n",
              "        (mlp): MLP(\n",
              "          (c_fc): Conv1D()\n",
              "          (c_proj): Conv1D()\n",
              "          (dropout): Dropout(p=0.1, inplace=False)\n",
              "        )\n",
              "      )\n",
              "      (3): Block(\n",
              "        (ln_1): LayerNorm((768,), eps=1e-05, elementwise_affine=True)\n",
              "        (attn): Attention(\n",
              "          (c_attn): Conv1D()\n",
              "          (c_proj): Conv1D()\n",
              "          (attn_dropout): Dropout(p=0.1, inplace=False)\n",
              "          (resid_dropout): Dropout(p=0.1, inplace=False)\n",
              "        )\n",
              "        (ln_2): LayerNorm((768,), eps=1e-05, elementwise_affine=True)\n",
              "        (mlp): MLP(\n",
              "          (c_fc): Conv1D()\n",
              "          (c_proj): Conv1D()\n",
              "          (dropout): Dropout(p=0.1, inplace=False)\n",
              "        )\n",
              "      )\n",
              "      (4): Block(\n",
              "        (ln_1): LayerNorm((768,), eps=1e-05, elementwise_affine=True)\n",
              "        (attn): Attention(\n",
              "          (c_attn): Conv1D()\n",
              "          (c_proj): Conv1D()\n",
              "          (attn_dropout): Dropout(p=0.1, inplace=False)\n",
              "          (resid_dropout): Dropout(p=0.1, inplace=False)\n",
              "        )\n",
              "        (ln_2): LayerNorm((768,), eps=1e-05, elementwise_affine=True)\n",
              "        (mlp): MLP(\n",
              "          (c_fc): Conv1D()\n",
              "          (c_proj): Conv1D()\n",
              "          (dropout): Dropout(p=0.1, inplace=False)\n",
              "        )\n",
              "      )\n",
              "      (5): Block(\n",
              "        (ln_1): LayerNorm((768,), eps=1e-05, elementwise_affine=True)\n",
              "        (attn): Attention(\n",
              "          (c_attn): Conv1D()\n",
              "          (c_proj): Conv1D()\n",
              "          (attn_dropout): Dropout(p=0.1, inplace=False)\n",
              "          (resid_dropout): Dropout(p=0.1, inplace=False)\n",
              "        )\n",
              "        (ln_2): LayerNorm((768,), eps=1e-05, elementwise_affine=True)\n",
              "        (mlp): MLP(\n",
              "          (c_fc): Conv1D()\n",
              "          (c_proj): Conv1D()\n",
              "          (dropout): Dropout(p=0.1, inplace=False)\n",
              "        )\n",
              "      )\n",
              "      (6): Block(\n",
              "        (ln_1): LayerNorm((768,), eps=1e-05, elementwise_affine=True)\n",
              "        (attn): Attention(\n",
              "          (c_attn): Conv1D()\n",
              "          (c_proj): Conv1D()\n",
              "          (attn_dropout): Dropout(p=0.1, inplace=False)\n",
              "          (resid_dropout): Dropout(p=0.1, inplace=False)\n",
              "        )\n",
              "        (ln_2): LayerNorm((768,), eps=1e-05, elementwise_affine=True)\n",
              "        (mlp): MLP(\n",
              "          (c_fc): Conv1D()\n",
              "          (c_proj): Conv1D()\n",
              "          (dropout): Dropout(p=0.1, inplace=False)\n",
              "        )\n",
              "      )\n",
              "      (7): Block(\n",
              "        (ln_1): LayerNorm((768,), eps=1e-05, elementwise_affine=True)\n",
              "        (attn): Attention(\n",
              "          (c_attn): Conv1D()\n",
              "          (c_proj): Conv1D()\n",
              "          (attn_dropout): Dropout(p=0.1, inplace=False)\n",
              "          (resid_dropout): Dropout(p=0.1, inplace=False)\n",
              "        )\n",
              "        (ln_2): LayerNorm((768,), eps=1e-05, elementwise_affine=True)\n",
              "        (mlp): MLP(\n",
              "          (c_fc): Conv1D()\n",
              "          (c_proj): Conv1D()\n",
              "          (dropout): Dropout(p=0.1, inplace=False)\n",
              "        )\n",
              "      )\n",
              "      (8): Block(\n",
              "        (ln_1): LayerNorm((768,), eps=1e-05, elementwise_affine=True)\n",
              "        (attn): Attention(\n",
              "          (c_attn): Conv1D()\n",
              "          (c_proj): Conv1D()\n",
              "          (attn_dropout): Dropout(p=0.1, inplace=False)\n",
              "          (resid_dropout): Dropout(p=0.1, inplace=False)\n",
              "        )\n",
              "        (ln_2): LayerNorm((768,), eps=1e-05, elementwise_affine=True)\n",
              "        (mlp): MLP(\n",
              "          (c_fc): Conv1D()\n",
              "          (c_proj): Conv1D()\n",
              "          (dropout): Dropout(p=0.1, inplace=False)\n",
              "        )\n",
              "      )\n",
              "      (9): Block(\n",
              "        (ln_1): LayerNorm((768,), eps=1e-05, elementwise_affine=True)\n",
              "        (attn): Attention(\n",
              "          (c_attn): Conv1D()\n",
              "          (c_proj): Conv1D()\n",
              "          (attn_dropout): Dropout(p=0.1, inplace=False)\n",
              "          (resid_dropout): Dropout(p=0.1, inplace=False)\n",
              "        )\n",
              "        (ln_2): LayerNorm((768,), eps=1e-05, elementwise_affine=True)\n",
              "        (mlp): MLP(\n",
              "          (c_fc): Conv1D()\n",
              "          (c_proj): Conv1D()\n",
              "          (dropout): Dropout(p=0.1, inplace=False)\n",
              "        )\n",
              "      )\n",
              "      (10): Block(\n",
              "        (ln_1): LayerNorm((768,), eps=1e-05, elementwise_affine=True)\n",
              "        (attn): Attention(\n",
              "          (c_attn): Conv1D()\n",
              "          (c_proj): Conv1D()\n",
              "          (attn_dropout): Dropout(p=0.1, inplace=False)\n",
              "          (resid_dropout): Dropout(p=0.1, inplace=False)\n",
              "        )\n",
              "        (ln_2): LayerNorm((768,), eps=1e-05, elementwise_affine=True)\n",
              "        (mlp): MLP(\n",
              "          (c_fc): Conv1D()\n",
              "          (c_proj): Conv1D()\n",
              "          (dropout): Dropout(p=0.1, inplace=False)\n",
              "        )\n",
              "      )\n",
              "      (11): Block(\n",
              "        (ln_1): LayerNorm((768,), eps=1e-05, elementwise_affine=True)\n",
              "        (attn): Attention(\n",
              "          (c_attn): Conv1D()\n",
              "          (c_proj): Conv1D()\n",
              "          (attn_dropout): Dropout(p=0.1, inplace=False)\n",
              "          (resid_dropout): Dropout(p=0.1, inplace=False)\n",
              "        )\n",
              "        (ln_2): LayerNorm((768,), eps=1e-05, elementwise_affine=True)\n",
              "        (mlp): MLP(\n",
              "          (c_fc): Conv1D()\n",
              "          (c_proj): Conv1D()\n",
              "          (dropout): Dropout(p=0.1, inplace=False)\n",
              "        )\n",
              "      )\n",
              "    )\n",
              "    (ln_f): LayerNorm((768,), eps=1e-05, elementwise_affine=True)\n",
              "  )\n",
              "  (lm_head): Linear(in_features=768, out_features=50259, bias=False)\n",
              ")"
            ]
          },
          "metadata": {
            "tags": []
          },
          "execution_count": 6
        }
      ]
    },
    {
      "cell_type": "markdown",
      "metadata": {
        "id": "UFYOJZjUikF9"
      },
      "source": [
        "Some functions to generate some sample texts for preview and to save as a list for repeated use."
      ]
    },
    {
      "cell_type": "code",
      "metadata": {
        "id": "-NGwg0I3YHOI"
      },
      "source": [
        "def generate_samples(num_samples, prompt=None):\n",
        "\n",
        "    gpt2model.eval()\n",
        "\n",
        "    if prompt is None:\n",
        "        prompt = \"<|startoftext|>\"\n",
        "\n",
        "    generated = torch.tensor(gpt2tokenizer.encode(prompt)).unsqueeze(0)\n",
        "    generated = generated.to(device)\n",
        "\n",
        "    sample_outputs = gpt2model.generate(\n",
        "                                generated, \n",
        "                                do_sample=True,   \n",
        "                                top_k=50, \n",
        "                                max_length = 300,\n",
        "                                top_p=0.95, \n",
        "                                num_return_sequences=num_samples\n",
        "                                )\n",
        "    \n",
        "    for i, sample_output in enumerate(sample_outputs):\n",
        "        print(\"{}: {}\\n\".format(i, gpt2tokenizer.decode(sample_output, skip_special_tokens=True)))  "
      ],
      "execution_count": null,
      "outputs": []
    },
    {
      "cell_type": "code",
      "metadata": {
        "colab": {
          "base_uri": "https://localhost:8080/"
        },
        "id": "a4Wkxs_LYHLl",
        "outputId": "7486565f-2ade-478f-82a3-99cb5c845be7"
      },
      "source": [
        "generate_samples(10)"
      ],
      "execution_count": null,
      "outputs": [
        {
          "output_type": "stream",
          "text": [
            "Setting `pad_token_id` to `eos_token_id`:50256 for open-end generation.\n"
          ],
          "name": "stderr"
        },
        {
          "output_type": "stream",
          "text": [
            "0: If you are the kind of Leo who prefers to wait for opportunities to shine you will be more inclined to see the good in others.\n",
            "\n",
            "1: Don’t give up on it yet.\n",
            "\n",
            "2: You want to prove your critics wrong and you won’t let anyone stop you.\n",
            "\n",
            "3: But as the Sun moves into your opposite sign tomorrow you must also work more closely with those you have not been able to work with in recent weeks.\n",
            "\n",
            "4: The universe is trying to trick you.\n",
            "\n",
            "5: Whatever the reason, don’t waste time on it.\n",
            "\n",
            "6: You won’t stop until everything is done.\n",
            "\n",
            "7: If you make an effort to get out and about and meet up with other people this weekend you will accomplish something worthwhile.\n",
            "\n",
            "8: Actions speak louder than words and if you are smart you will speak up over the next 24 hours.\n",
            "\n",
            "9: For there is, as it were, no longer any need for the idea of oneself as a separate being, for this idea vanishes completely in its senseless complexity and unintelligibility.\n",
            "\n"
          ],
          "name": "stdout"
        }
      ]
    },
    {
      "cell_type": "code",
      "metadata": {
        "id": "hanTfFFxYHI_"
      },
      "source": [
        "def generate_text_list(num_samples, prompt=None):\n",
        "\n",
        "    text_list = []\n",
        "\n",
        "    gpt2model.eval()\n",
        "\n",
        "    if prompt is None:\n",
        "        prompt = \"<|startoftext|>\"\n",
        "\n",
        "    generated = torch.tensor(gpt2tokenizer.encode(prompt)).unsqueeze(0)\n",
        "    generated = generated.to(device)\n",
        "\n",
        "    sample_outputs = gpt2model.generate(\n",
        "                                generated, \n",
        "                                do_sample=True,   \n",
        "                                top_k=50, \n",
        "                                max_length = 300,\n",
        "                                top_p=0.95, \n",
        "                                num_return_sequences=num_samples\n",
        "                                )\n",
        "    \n",
        "    for sample_output in sample_outputs:\n",
        "        text_list.append(gpt2tokenizer.decode(sample_output, skip_special_tokens=True))\n",
        "\n",
        "    return text_list    "
      ],
      "execution_count": null,
      "outputs": []
    },
    {
      "cell_type": "markdown",
      "metadata": {
        "id": "WqjQ0tYHmE1k"
      },
      "source": [
        "## Generating texts"
      ]
    },
    {
      "cell_type": "markdown",
      "metadata": {
        "id": "PfK2yOiImJ_u"
      },
      "source": [
        "### Tarot meanings and interpretations\n",
        "\n",
        "First, I'll generate meanings or interpretations for each card. I want to have some options for the 22 cards I'll be making, so hoping for roughly 10 meanings per card and then I can pick which ones I like best."
      ]
    },
    {
      "cell_type": "code",
      "metadata": {
        "id": "Ath-Y4ECl9c3",
        "colab": {
          "base_uri": "https://localhost:8080/"
        },
        "outputId": "eb45b65f-95e0-4d07-cca5-33a0bbbdaeac"
      },
      "source": [
        "meanings = generate_text_list(200)\n",
        "\n",
        "for i, meaning in enumerate(meanings):\n",
        "    print(f'{i}: {meaning}')"
      ],
      "execution_count": null,
      "outputs": [
        {
          "output_type": "stream",
          "text": [
            "Setting `pad_token_id` to `eos_token_id`:50256 for open-end generation.\n"
          ],
          "name": "stderr"
        },
        {
          "output_type": "stream",
          "text": [
            "0: You may not think much of yourself but now is a good time to look more closely at what you are doing – maybe even thinking!\n",
            "1: Try to keep your plans light over the next few days, especially if they are of a financial nature.\n",
            "2: You don’t have to be in control all the time but if you are smart you will let the other person see that you still have limits, even if they are not quite as high as they would like them to be.\n",
            "3: The only people who seem determined to get things done are those who know how to get on and get things done for themselves.\n",
            "4: In fact there is a real possibility of a thousand years.\n",
            "5: You won’t be able to hide your feelings today: your head will remain in your pocket.\n",
            "6: Today’s lunar eclipse in your birth sign promises that you will have plenty of material and emotional junk to catch up on.\n",
            "7: You have to make a decision, even if it is the wrong decision, and because others are reluctant to follow it you will have to take on too many tasks and too many people.\n",
            "8: And you'll be the life and soul of the party.\n",
            "9: To the wise, the world is a beautiful garden.\n",
            "10: You can’t lose and with Saturn and Mars making joint efforts you may have to go back and do it all over again.\n",
            "11: If they ask for an accounting of the things they had to do, you won’t be able to turn them down.\n",
            "12: The next few days should be fun but if you let slip information that could lead to bigger problems it could turn out to be quite embarrassing.\n",
            "13: The more you push the boundaries the more you will meet people who, to you at least, seem more important than they really are.\n",
            "14: You may feel you can do as you please and get away with it but that’s not the point.\n",
            "15: What are you waiting for?\n",
            "16: If you believe that God wants you to join with those who do not share your faith then do so now.\n",
            "17: In fact there is no point getting uptight about it.\n",
            "18: There may be times today when you want to move mountains, but your powers of persuasion can make it happen – and it won’t be long before you’re flying.\n",
            "19: Don’t worry about that, you will find a way around it eventually – and no, there are no shortcuts to success.\n",
            "20: If you can do that there is plenty of time to enjoy yourself as Mercury, your ruler, moves into the most dynamic area of your chart later in the week.\n",
            "21: You are in one of your moods for some fun and romance at the moment and today’s Sun-Mars link will give you the opportunity to have some serious fun.\n",
            "22: If you are the kind of Scorpio who loves to be on the move today you may be inclined to try something different.\n",
            "23: You may be confident in your abilities but you are not as good at keeping your head down as others believe.\n",
            "24: You will receive good news concerning your work and career tomorrow, so don’t expect too much of yourself.\n",
            "25: You know what it is that is most important – you know how to use it.\n",
            "26: The longer you keep your fears to yourself the happier you will be when Mars changes signs on the 20th.\n",
            "27: Be careful though that you do not overdo it by doing too much.\n",
            "28: The current cosmic picture urges you to believe that, whatever happens, what happens will benefit you personally, both personally and financially.\n",
            "29: It may seem as if you don’t need to worry about what might go wrong with your life but is that true or is it just the other way around?\n",
            "30: Don’t worry if a friend or colleague feels the need to ask you to back out of some sort of financial arrangement over the next 24 hours – in fact they may be tempted to say or do what you desire simply to get a few bucks back.\n",
            "31: It’s all about style – no doubt about that.\n",
            "32: Someone will say or do something you do not agree with today but you know that you will not be put off for another 48 hours.\n",
            "33: They should know by now that it is of only minor importance.\n",
            "34: You have a tendency to be a bit impulsive over the next 24 hours.\n",
            "35: Others may say it’s not what you were hoping to do but you are human and will do it anyway.\n",
            "36: There is no such thing as a certain amount of noise.\n",
            "37: But you don’t have to push yourself too hard – you don’t have to push yourself to a higher standard.\n",
            "38: If someone lets you down you must make an apology.\n",
            "39: You will need to be a bit more selective over the next few days.\n",
            "40: Don’t be too hasty though – let them know in no uncertain terms that they need to make a name for themselves.\n",
            "41: Don’t waste time fantasizing about how good the future will look.\n",
            "42: That applies to all areas of your life but particularly to travel.\n",
            "43: Don’t worry if a loved one suddenly gets depressed this weekend – that’s not an excuse to leave them alone.\n",
            "44: Try not to take your guard down too hard.\n",
            "45: Some things will upset you more than others over the next few days but they are the same thing, and you will handle it better than most.\n",
            "46: There are a lot of things that need to be done to boost your income and this is one of them.\n",
            "47: If not, be careful.\n",
            "48: You’re the life and soul of the party.\n",
            "49: But don’t be too critical, be sensible and believe in yourself.\n",
            "50: Something is sure to happen over the next few days, something that helps you stand out from the crowd.\n",
            "51: You’ll be in an even better position than you were before.\n",
            "52: Try not to get too aggressive about something that does not concern you directly or take on the world at large.\n",
            "53: Cosmic activity in your fellow Air sign of Aries will give you the courage to take risks over the next few days.\n",
            "54: It may seem as if everyone you deal with is having a good time but they may not want to go on a spree.\n",
            "55: Doing a favor for a friend You will get all the praise and affection you desire over the next few days.\n",
            "56: You won’t lack for confidence today, not least because it is the kind of confidence that other people seem to crave!\n",
            "57: For now though you need to go right the other way and do something for people you are not really good at.\n",
            "58: You may think you are above the law but it’s not true.\n",
            "59: For God is the very center of our universe and is known to us by the names of the four Living Creatures on the surface of our skin.\n",
            "60: Why shouldn’t we do that as well?\n",
            "61: You won’t let others pressure you into doing what you want to do – so think of ways to get as much done as you can.\n",
            "62: That might sound unnecessarily harsh but be careful.\n",
            "63: With a full moon on your side there’s a chance you could get something of value out of it.\n",
            "64: Don’t be too pushy about it.\n",
            "65: A smile will attract all sorts of offers this weekend.\n",
            "66: Others may try to persuade you that you should just give up on something that has worked or that means nothing to you.\n",
            "67: If you need a break then go out and have it.\n",
            "68: You will encounter people who are more demanding than you usually are over the next 48 hours.\n",
            "69: You must not, however, push your luck or be disappointed.\n",
            "70: The planets indicate that once you start moving the goalposts you will reach your destination faster than most people manage to slow down.\n",
            "71: Don’t give anything away today – just make sure it is the right one.\n",
            "72: You need to be careful where business issues and material matters are concerned, especially where affairs of the heart are concerned.\n",
            "73: There is a real possibility that you will make some kind of mistake and, more importantly, you will be a hero.\n",
            "74: If you find it hard to decide what is right for you this weekend then now is the time to ask friends and family members for their advice.\n",
            "75: If you find yourself in the position of having no choice in the matter, or your life, what happens today will convince you that decision-making is wrong.\n",
            "76: It’s time to start seeing a better world!\n",
            "77: Someone whose affections stretch back many years will say something today that shocks you, maybe even cause a bit of a headache, so make the first move.\n",
            "78: It is important that you stay calm and focus on what is important to you.\n",
            "79: You may find it hard to keep your thoughts to yourself today but the planets suggest that if you get things done you will accomplish great things in the weeks to come.\n",
            "80: If you are planning to be a reality it might be wise to keep a low profile and don’t make a big noise – just because you have to.\n",
            "81: Yes, you can be a success and it won’t be long before you reach your goal but you must be aware that this is not a time for self-pity.\n",
            "82: It’s good to get rid of an embarrassing issue but don’t make it worse.\n",
            "83: Make the most of what this weekend to have the best time of the year, because your health may not be as robust as you would like it to be.\n",
            "84: It’s as if a mountain has been lifted from its depth!\n",
            "85: Don’t make a big deal of it though, don’t let it bother you.\n",
            "86: Why do you believe that your needs and desires are worth more than your own?\n",
            "87: It won’t.\n",
            "88: No, they are not trying to trick you.\n",
            "89: Just be careful you don’t say too much or you may put yourself at someone’s expense.\n",
            "90: The good news is you know what you should be doing and the bad news is you know exactly what you should be doing.\n",
            "91: Make sure you spell out what it is you are aiming for over the coming 24 hours.\n",
            "92: Just make sure you don’t take your time making decisions for other people.\n",
            "93: You may not realize how easy it is to lose what you have gained but it’s always a possibility and if you don’t try now you will never get it back, so why go looking for it?\n",
            "94: A family member will sing your praises today and with good reason – you are the kind of person who will happily do whatever it takes to please their extended family.\n",
            "95: The Sun’s move into the relationship area of your chart this weekend means it is only right that you get along with other people and they should be treated with respect.\n",
            "96: To have a fair and open debate you must not allow anyone to keep information from you.\n",
            "97: Whatever happens, don’t keep it locked up in a book.\n",
            "98: If something does not work out the way you intended it to then by all means give it a go.\n",
            "99: You have no choice but to get involved.\n",
            "100: You won’t have time for it if you scatter your energy in two directions.\n",
            "101: You will find it much easier to get what you want today, even if you sometimes get it in the mail.\n",
            "102: You should at least slow down a bit before you take something of a less positive nature.\n",
            "103: A work colleague’s warning about what might happen may be useful but is it worth the strain?\n",
            "104: If you let partners and loved ones know how much you care for them they will be a lot more willing to give it to you now.\n",
            "105: What we want most, the universe, is what we desire to get.\n",
            "106: The Sun in Taurus endows you with the confidence to venture out into the unknown and explore.\n",
            "107: Don’t waste time lamenting what might have been.\n",
            "108: If anything this is probably one of those occasions when you should just relax and let life come to you – because you can always be ready to do something special.\n",
            "109: The best way to deal with an emotional problem is to pretend it does not exist.\n",
            "110: For too long now your efforts in pursuit of a certain goal have been overshadowed by a rival that is simply too big and too dynamic to get a word in edgeways.\n",
            "111: And another angel, having a seven-pointed star, went out and spake to the woman and unto her, saying, Fear not: I will cast a cloud of fire over them that dwell upon the earth and unto the sea and unto every nation and island and nation, and unto all the peoples that live on the earth and unto the fountains of the rivers and the fountains of the fountains of the earth; and I will make them desolate in the earth; You won’t be out of the loop for long.\n",
            "112: But you are also the one who is moving in the direction you want to go.\n",
            "113: You are so easily bored at the moment that you can’t help but wish you could just relax.\n",
            "114: Don’t sit there looking annoyed because there’s a new moon in the most dynamic area of your chart.\n",
            "115: There are certain tasks you must do today to remind yourself of the importance of your principles and how they can bring you the success you need.\n",
            "116: You may be tempted to splash out on something but you are advised to look at it in a light-hearted manner – it will certainly do you good.\n",
            "117: It’s your life and you have to decide who you like best.\n",
            "118: Something important is likely to happen today that catches you out of your stride.\n",
            "119: It may not mean you are trying hard to impress certain people but if it doesn’t, now is the time to give it a go.\n",
            "120: You don’t know all the answers – so why go searching for them?\n",
            "121: The Sun moves into the relationship area of your chart today, making it easy for you to boost your status.\n",
            "122: To start with, your powers of persuasion are limited by your own, so you can only get on better with others when you know they like what they see.\n",
            "123: There will be lots of fun today – you have no intention of letting it get to you.\n",
            "124: To put it simply, you cannot possibly be perfect every day of the week and that is why you should not get worked up about what other people say you should be doing.\n",
            "125: But don’t do it just to get yourself noticed – don’t do it to put yourself in other people’s hands.\n",
            "126: You will soon get the chance to improve things over the next few days but before then get your act together and start something a bit more personal.\n",
            "127: The point is to find out what is going on behind the scenes and to see if there is any deception.\n",
            "128: You have good reason to be excited but you have also got to look in the mirror for opportunities to shine – and you have got to look too.\n",
            "129: There are so many things you want to do now that you still have a few weeks before you can get started.\n",
            "130: Try being a bit less self-critical.\n",
            "131: What happens over the next 24 hours will remind you that the powers that be have nothing to do with your needs, and everything to do with your wishes.\n",
            "132: The Sun’s move into the money area of your chart in midweek means you are advised to cut back on your commitments.\n",
            "133: For some strange reason your mind seems to be making no sense at all and the only way to know what the answer is is to keep it locked up inside you.\n",
            "134: The best advice is to keep things simple.\n",
            "135: Don’t give yourself any rest.\n",
            "136: They will make you believe what you have to say and make you believe your way to success – which is what you should be doing.\n",
            "137: Be bold and show your emotions.\n",
            "138: If you have not yet talked to someone about something that you really can’t seem to get around to understand you should sit back, take a deep breath and get your thoughts together.\n",
            "139: Keep going.\n",
            "140: A lot will depend on your attitude and how much you allow yourself to believe this week.\n",
            "141: What have you done to get here?\n",
            "142: Cosmic activity in the most outgoing area of your chart makes you more outgoing than usual and that’s good because it means you have to deal with other people’s doubts and fears.\n",
            "143: You won’t have to do anything special, just go with the flow.\n",
            "144: Let the important people know they can trust you.\n",
            "145: Your confidence may be low but you must also take an active approach to your health.\n",
            "146: It’s no big deal, in fact it’s nothing bad.\n",
            "147: The less you say too much about a loved one’s behavior the more likely it is they will try to make you feel bad about yourself.\n",
            "148: Be careful you don’t overdo it and give them the benefit of the doubt.\n",
            "149: Cosmic activity in the most sensitive area of your chart makes it easy for you to make decisions for yourself, and with Mars so strong in your chart at the moment this should be one of the busiest times of the year.\n",
            "150: Try not to be too hard on yourself today.\n",
            "151: No one in your right mind wants to take the kind of chances you usually prefer to avoid.\n",
            "152: And when I saw this, I wondered, What an extraordinary thing it is?\n",
            "153: Be brave, be adventurous, but be decisive too.\n",
            "154: You know all the right tricks, so why play safe?\n",
            "155: For you and your friends and colleagues it is the right thing to do, especially when affairs of the heart are at stake.\n",
            "156: It may at times be hard to tell the difference between right and wrong but if you adopt a neutral opinion now you will have more success later on and by the end of the week’s new friends will be making the kind of contributions that will make it worth getting.\n",
            "157: Be careful what you say this weekend because other people may be able to see in your own big way what needs to be done to make you feel good about yourself.\n",
            "158: You won’t find it hard to be persuasive today but you can’t force others to do your bidding.\n",
            "159: Don’t think of them as failures – most likely they are.\n",
            "160: Yes, it could be a bit of a pain.\n",
            "161: Do you let them know how it all fits together?\n",
            "162: You are moving too fast and need to slow down to catch up.\n",
            "163: A problem you thought had been resolved will return in waves over the next 24 hours.\n",
            "164: Be positive.\n",
            "165: If there is something you desire that you will find a way to get over the next 48 hours, something that someone else will try to deny you, you must not deny it.\n",
            "166: The more you try to do everything yourself the more you will get bored with yourself and wish you were doing more.\n",
            "167: Don’t make too big an issue of it though.\n",
            "168: It may be a great idea but don’t be so laid-back about it that you start throwing yourself at it.\n",
            "169: You may be tempted to give up on a project that has been a great success but for best results don’t start it yet.\n",
            "170: As of right now, try not to get involved in feuds that would not have been such a big deal.\n",
            "171: The more you make things happen the more you will make money too.\n",
            "172: The Sun in Aquarius urges you to get the balance right, but as it comes you should take the opposite approach.\n",
            "173: What you say may shock those you live, work or do business with but the facts don’t matter.\n",
            "174: If you have something to say this is the perfect time to make waves.\n",
            "175: You may be surprised how easily you can get things done.\n",
            "176: According to the planets the real reason you have been behaving this way is to impress your very own top dog.\n",
            "177: The important thing is that you stop being so intense about it and focus on what is really important: your health.\n",
            "178: Make sure those you live and work with know what you are worth too.\n",
            "179: Try not to be so intense today because if you go down that route you will most likely get nowhere, so be moderate.\n",
            "180: If it’s really so bad the worst possible thing you can do is to just get on and do what makes you happy.\n",
            "181: Let those around you see that you are the kind of person who likes to be on your guard.\n",
            "182: You seem to be in one of your more negative moods at the moment and you should be looking to rest and recharge your batteries.\n",
            "183: There is a lot to say for yourself now but for the moment at least you should keep a low profile.\n",
            "184: If the answer is no, and you don’t want to be told the difference then don’t take it personally.\n",
            "185: The only people who will be taking liberties now are those who think they can get away with it if they so wish.\n",
            "186: Your life will always improve and as from tomorrow you may be standing on the edge of the cliff.\n",
            "187: The simple fact is you have obligations to fulfill but you also have to be aware of them and that means paying the price of some of the people you most want to see.\n",
            "188: It’s important to remember that, like everything else, change is disruptive and if you have not made changes then why are you still in this one direction?\n",
            "189: You know the old saying: “Where is the glory?”\n",
            "190: A dispute of some kind may not look too serious but it will pay you to let it slide.\n",
            "191: In other words, try to be tolerant of other people’s opinions – and they’ll be tolerant too.\n",
            "192: You have done your fair share of work and still need to be paid some respect, but now is not the time to act in an aggressive way.\n",
            "193: Others may complain that you are not doing enough but you will get over it and move on.\n",
            "194: The more you get done the more fun you have with yourself.\n",
            "195: What can you say to the effect of this fact?\n",
            "196: You may find it hard to make sense of what certain people have to say but they won’t mind.\n",
            "197: What makes you smile?\n",
            "198: You may think it is okay to put your health first but in the long-term it is unlikely to be a good thing.\n",
            "199: If you think of making a profit now you will make a lot of money later on – so don’t waste a dollar.\n"
          ],
          "name": "stdout"
        }
      ]
    },
    {
      "cell_type": "code",
      "metadata": {
        "id": "LPIAeaa5mkAL"
      },
      "source": [
        "idx_to_drop = [3, 4, 5, 6, 10, 11, 15, 16, 17, 20, 21, 22, 25, 26, 28, 29, \n",
        "               33, 34, 38, 40, 42, 45, 47, 49, 53, 54, 59, 60, 62, 66, \n",
        "               70, 71, 79, 80, 84, 86, 87, 88, 93, 95, 98, 101, 105, 106, 111, 112, 114, 119, \n",
        "               120, 121, 122, 129, 131, 132, 136, 141, 142, 149, 151, 152, 155, 156, 157, \n",
        "               161, 165, 169, 172, 176, 178, 184, 189, 190, 195, 196]"
      ],
      "execution_count": null,
      "outputs": []
    },
    {
      "cell_type": "code",
      "metadata": {
        "colab": {
          "base_uri": "https://localhost:8080/",
          "height": 419
        },
        "id": "p6LkDOPZu10j",
        "outputId": "0e451b00-3bf2-41bb-8d62-87ea2ef4b6e7"
      },
      "source": [
        "meanings_df = pd.DataFrame(meanings, columns=['meanings'])\n",
        "meanings_df.drop(index=idx_to_drop, inplace=True)\n",
        "meanings_df"
      ],
      "execution_count": null,
      "outputs": [
        {
          "output_type": "execute_result",
          "data": {
            "text/html": [
              "<div>\n",
              "<style scoped>\n",
              "    .dataframe tbody tr th:only-of-type {\n",
              "        vertical-align: middle;\n",
              "    }\n",
              "\n",
              "    .dataframe tbody tr th {\n",
              "        vertical-align: top;\n",
              "    }\n",
              "\n",
              "    .dataframe thead th {\n",
              "        text-align: right;\n",
              "    }\n",
              "</style>\n",
              "<table border=\"1\" class=\"dataframe\">\n",
              "  <thead>\n",
              "    <tr style=\"text-align: right;\">\n",
              "      <th></th>\n",
              "      <th>meanings</th>\n",
              "    </tr>\n",
              "  </thead>\n",
              "  <tbody>\n",
              "    <tr>\n",
              "      <th>0</th>\n",
              "      <td>You may not think much of yourself but now is ...</td>\n",
              "    </tr>\n",
              "    <tr>\n",
              "      <th>1</th>\n",
              "      <td>Try to keep your plans light over the next few...</td>\n",
              "    </tr>\n",
              "    <tr>\n",
              "      <th>2</th>\n",
              "      <td>You don’t have to be in control all the time b...</td>\n",
              "    </tr>\n",
              "    <tr>\n",
              "      <th>7</th>\n",
              "      <td>You have to make a decision, even if it is the...</td>\n",
              "    </tr>\n",
              "    <tr>\n",
              "      <th>8</th>\n",
              "      <td>And you'll be the life and soul of the party.</td>\n",
              "    </tr>\n",
              "    <tr>\n",
              "      <th>...</th>\n",
              "      <td>...</td>\n",
              "    </tr>\n",
              "    <tr>\n",
              "      <th>193</th>\n",
              "      <td>Others may complain that you are not doing eno...</td>\n",
              "    </tr>\n",
              "    <tr>\n",
              "      <th>194</th>\n",
              "      <td>The more you get done the more fun you have wi...</td>\n",
              "    </tr>\n",
              "    <tr>\n",
              "      <th>197</th>\n",
              "      <td>What makes you smile?</td>\n",
              "    </tr>\n",
              "    <tr>\n",
              "      <th>198</th>\n",
              "      <td>You may think it is okay to put your health fi...</td>\n",
              "    </tr>\n",
              "    <tr>\n",
              "      <th>199</th>\n",
              "      <td>If you think of making a profit now you will m...</td>\n",
              "    </tr>\n",
              "  </tbody>\n",
              "</table>\n",
              "<p>126 rows × 1 columns</p>\n",
              "</div>"
            ],
            "text/plain": [
              "                                              meanings\n",
              "0    You may not think much of yourself but now is ...\n",
              "1    Try to keep your plans light over the next few...\n",
              "2    You don’t have to be in control all the time b...\n",
              "7    You have to make a decision, even if it is the...\n",
              "8        And you'll be the life and soul of the party.\n",
              "..                                                 ...\n",
              "193  Others may complain that you are not doing eno...\n",
              "194  The more you get done the more fun you have wi...\n",
              "197                              What makes you smile?\n",
              "198  You may think it is okay to put your health fi...\n",
              "199  If you think of making a profit now you will m...\n",
              "\n",
              "[126 rows x 1 columns]"
            ]
          },
          "metadata": {
            "tags": []
          },
          "execution_count": 34
        }
      ]
    },
    {
      "cell_type": "markdown",
      "metadata": {
        "id": "tUsZ2V5HvE8g"
      },
      "source": [
        "126 docs is not enough, so I'll generate another batch..."
      ]
    },
    {
      "cell_type": "code",
      "metadata": {
        "colab": {
          "base_uri": "https://localhost:8080/"
        },
        "id": "fuLLYZ8jmkOX",
        "outputId": "846e495f-3ada-465c-9db7-f45f1e8fabcb"
      },
      "source": [
        "meanings2 = generate_text_list(200)\n",
        "\n",
        "for i, meaning in enumerate(meanings2):\n",
        "    print(f'{i}: {meaning}')"
      ],
      "execution_count": null,
      "outputs": [
        {
          "output_type": "stream",
          "text": [
            "Setting `pad_token_id` to `eos_token_id`:50256 for open-end generation.\n"
          ],
          "name": "stderr"
        },
        {
          "output_type": "stream",
          "text": [
            "0: Yes, you can do things that others don’t, but do you really need to rush them through like they are trying to slow down?\n",
            "1: Some people may say that you are desperate but if you make the effort you will find it will pay off in ways you have not anticipated.\n",
            "2: No matter how independent-minded you may be in the world you are advised not to take any drastic action today.\n",
            "3: You have no limits, so long as you don’t take on too much.\n",
            "4: Your mind will be open and honest today and that’s a huge plus.\n",
            "5: A clash of egos could break out today and if you are wise you will sit back and watch the two feud for a few hours.\n",
            "6: Some people seem to expect you to be the kind of person who always wants to be noticed but there is something you must learn about yourself.\n",
            "7: Your way with words will make matters easier to understand.\n",
            "8: This hexagram is a variation of the design of Mercury, and of the four trigrams in particular.\n",
            "9: Don’t worry about whether someone is mad because there are enough facts in the world to know what they are talking about – you just need to take your time and get the right answers.\n",
            "10: Your confidence will be sky-high over the next few days and there is every possibility you will meet someone who can show you how to make your dreams come true.\n",
            "11: As from today you must go with the flow.\n",
            "12: There is simply no one and no thing more frustrating than trying to do a certain task too hard.\n",
            "13: What happens over the next few days will give you a huge boost but don’t worry about it, you will get it back many times over.\n",
            "14: Take care you don’t give too much away.\n",
            "15: You have no choice over the next 24 hours.\n",
            "16: Just this once, maybe not, but it may be worth the wait.\n",
            "17: With Venus moving through your birth sign this week you will find it easy to get along with friends and colleagues and it will pay you to keep them on your side today.\n",
            "18: A friend or colleague may seem a bit distant or distant, maybe even to you but don’t worry because there is a lot of cosmic activity in your opposite sign.\n",
            "19: The fact is you cannot control your emotions and that means that the best course of action is to let go of them altogether.\n",
            "20: Your sixth sense tells you that something you think has been going on for ages cannot be brought about by a change in your mind.\n",
            "21: If you keep up the pace over the coming week you will get it done quicker and faster if you keep it within acceptable limits.\n",
            "22: You can’t change the world, so make the effort and change.\n",
            "23: There is simply no need to rush ahead because this is still a thoroughly enjoyable weekend.\n",
            "24: And there is no blame but the woman and the child.\n",
            "25: You will get several opportunities to help someone who is feeling a bit down this week.\n",
            "26: Make it your aim over the next few days to find out what motivates you.\n",
            "27: If you see your way blocked you will find your way blocked again.\n",
            "28: The Sun in Capricorn today will make sure you reach out and take the kind of risk that most people would not dare take.\n",
            "29: In his own way, it is in vain that he should become aware of himself, since his experience is only in the form of consciousness itself, and his existence is thus not an event. [\n",
            "30: Today is only a passing phase and with so much cosmic activity in your chart at the moment you need to think before you act – even if it seems to put you at a disadvantage.\n",
            "31: Take a step back and take stock of what you have achieved in recent weeks and if something is not what you were hoping for it might be.\n",
            "32: You can do too much of everything and still have a lot of time – and energy too – to do things worthwhile.\n",
            "33: Don’t be intimidated by people who seem to delight in teasing you.\n",
            "34: But don’t waste your time chasing after it just yet.\n",
            "35: Be careful what you say this weekend because someone who is not your main enemy will be more than happy to undermine your confidence.\n",
            "36: Others will praise you for it.\n",
            "37: There are so many opportunities out there in the world but you cannot get the most from them all.\n",
            "38: Whatever the reason you need to be patient.\n",
            "39: And in return, I made the planets, planets of love and laughter.\n",
            "40: You may feel a bit thin-skinned at the moment but there is no need.\n",
            "41: You would be wise to cut back on your commitments this week because that’s going to help.\n",
            "42: You are strongly advised not to take anything too seriously over the next 24 hours, because your health could suffer if you get too set in your ways.\n",
            "43: Keep your ideas to yourself for a while and don’t let anyone in on a secret that could be used against you.\n",
            "44: You may feel confident on the work front but don’t get too pushy about it.\n",
            "45: Don’t keep a secret from those you live, work or do business with today.\n",
            "46: You may not be in the mood for serious things of late but no matter.\n",
            "47: Don’t be fooled, they think they can get away with it – and they are right!\n",
            "48: Don’t try to force certain people to see your point of view because it will most likely lead them in a direction that is alien to them.\n",
            "49: You will have to deal with someone today who appears to take what you are doing personally.\n",
            "50: Do something today that makes you feel good about yourself.\n",
            "51: Something will happen today that proves you wrong – and maybe you have.\n",
            "52: Don’t worry too much about other people – you will deal with them all better in the long-term.\n",
            "53: You have made far too many sacrifices in recent weeks and, with Jupiter, planet of excess, turning retrograde today it may not be long before it all comes back to you.\n",
            "54: Make the effort, and make it work.\n",
            "55: If you say the wrong thing to someone today you could make the mistake of saying something that turns them against you.\n",
            "56: Maybe it’s time to admit defeat.\n",
            "57: The Sun’s change of signs tomorrow marks the start of a much more mellow phase – don’t be afraid to splash out on luxury.\n",
            "58: It’s the same old story, and the same old way, of all kinds.\n",
            "59: There’s no logical reason why you should care, so stop being so emotional and think deeply about what is really going on in your life.\n",
            "60: The time is right to make your move.\n",
            "61: Whatever it is you desire to accomplish don’t let go just yet – try something different.\n",
            "62: If you think that life is easy for you now is the time to stop worrying about everything and start making things easier for yourself.\n",
            "63: The more others say you have wasted your time the less likely it is you will be able to show them the truth.\n",
            "64: There’s no point trying to convince those you know, or have dealings with, that you are the best of friends.\n",
            "65: The planets suggest the good news is that not only will you feel good about yourself but you will also get so much better about yourself that you realize that you have no alternative but to give up on your aims.\n",
            "66: This may not be the most productive time of the year for you but there is no need to panic – you are under no obligation to do anything special.\n",
            "67: Today’s Venus-Neptune link makes it easy for you to find ways to combine positive and negative ideas.\n",
            "68: It takes a lot to understand an important message Don’t get carried away and leave well alone.\n",
            "69: Even if there are some who would prefer to work for you it is your reputation that matters – so don’t hesitate to follow their example.\n",
            "70: If others get angry with you today don’t make a big deal of it.\n",
            "71: Your attitude to life will change dramatically as the week gets to the end of the week and that’s great because you will no longer be able to control your emotions.\n",
            "72: It could be a lot of fun, especially on the home front where loved ones are all over the place.\n",
            "73: The planets urge you to be more adventurous, especially in your pursuit of happiness.\n",
            "74: If you need a shoulder to cry on today don’t hesitate: the next few days are going to be extra special for you – so think before you speak.\n",
            "75: According to the planets there is nothing to worry about and everything to look forward to.\n",
            "76: Your energy levels will reach new heights today and over the weekend and you will gain huge new friends as the new week begins.\n",
            "77: If you let your guard down today there are sure to be consequences.\n",
            "78: Let partners and colleagues know what you need and what you can do.\n",
            "79: Maybe you should say so.\n",
            "80: The good news is that the approaching full moon will bring a powerful new solar year into your fellow Air sign of Gemini this week.\n",
            "81: You need to be totally honest with yourself about your feelings.\n",
            "82: If someone asks you for a shoulder to cry on today you must give it to them with no questions asked.\n",
            "83: According to the planets you have been far too quick with your cash and now that you know how to spend it you won’t be satisfied until you have earned it.\n",
            "84: Yes, you are entitled to enjoy yourself but it is not right to indulge in self-pity when you know that nothing else will come close to fulfilling it.\n",
            "85: Make sure you know what is going on before you speak.\n",
            "86: Make sure you get the right advice.\n",
            "87: This is not the time to take foolish risks with money.\n",
            "88: You may feel sorry for someone who has gone through a difficult time but don’t let your anger get the better of you.\n",
            "89: The planets indicate that, when it comes right down to it, everything will work out for the best.\n",
            "90: You will feel the effects of yesterday’s full moon on your body.\n",
            "91: This card represents the person in a position of authority, usually a banker or senior member of a bank, in order to provide for certain obligations or responsibilities.\n",
            "92: Some people will find it hard to hide their feelings today but that’s okay.\n",
            "93: It’s okay to be suspicious.\n",
            "94: For there is no law or order of nature but those that are directly and irreducibly arranged, and these are the men who have suffered the most, the men who have endured the least, and the ones who have stood in the way.\n",
            "95: The Sun in the career area of your chart encourages you to work harder and, above all, be confident.\n",
            "96: Don’t worry if you do something today that you think would be of benefit to other people.\n",
            "97: It’s good advice.\n",
            "98: If you try to do everything yourself you’ll end up doing nothing at all.\n",
            "99: Try not to jump to conclusions today.\n",
            "100: It will pay you to be skeptical today.\n",
            "101: Do what you can to convince others that you are serious about your aims – then you’ll be more than a rival!\n",
            "102: You’re not the only one who knows where your money is coming from.\n",
            "103: But don’t take it personally.\n",
            "104: There is no need to rush.\n",
            "105: Even if you are the sort of Aquarius who likes to spend quality time with your friends you will be thinking seriously about getting back into the groove.\n",
            "106: Amen!\n",
            "107: Make them your reality!\n",
            "108: The simple fact is your brain is big and powerful and that means others have big too.\n",
            "109: This is not to say that your words are false or out of date, just that your words have meaning.\n",
            "110: Let others know that it’s okay to be controversial and if you are smart you will let them know too.\n",
            "111: Achieving your goals through hard work and determination If someone you work or do business with offers you some kind of offer today don’t reject it out of hand.\n",
            "112: You’ve earned that right.\n",
            "113: As from today though you will gain on yourself a lot.\n",
            "114: You will find that, if you make a conscious effort to be positive in your thinking, positive things will occur.\n",
            "115: There are always changes in your world and every day brings new opportunities – so find ways to adapt to them.\n",
            "116: They may be gentle and understanding but they need to be reminded that, like all good things in life, the path you choose to take will have a major impact on your everyday existence.\n",
            "117: What you need to understand is that you do not have to push yourself physically.\n",
            "118: You will do something out of the ordinary over the next 24 hours.\n",
            "119: Try to be totally rational this weekend – especially when dealing with people who may not be so rational on the work front.\n",
            "120: You will take it even further today when you challenge the status quo by making changes that are the kind of changes that will change the world for the better.\n",
            "121: You should know by now that most important people in the world would like to help you.\n",
            "122: You need to get the balance right between being positive and being negative, and that means asking too much.\n",
            "123: Let’s face it: if you want to change things, change people, change your world, you need to be on the side of change.\n",
            "124: You have not been content to wait for events to happen in your birth sign but you are not content to ignore them.\n",
            "125: Make an effort to let partners and loved ones know what you are doing.\n",
            "126: Whatever the reason you need to get over it – and you need to do it big.\n",
            "127: It’s not like you to let your guard down but for once in recent weeks you have found it difficult to be suspicious.\n",
            "128: But don’t get caught up in petty arguments today or you may have gone too far and done too much and need to spend the remainder of the week in the same frame of mind.\n",
            "129: It may not be an easy task but it is necessary.\n",
            "130: With Mars, planet of the mind, so strong in your chart you are sure to get noticed.\n",
            "131: The only reason you did not do it sooner is because you got angry.\n",
            "132: They’re not.\n",
            "133: There is nothing to be afraid of, at least not from those who see themselves as strangers in the same way that you do.\n",
            "134: You don’t have to lie often but you do have to keep certain ideas to yourself.\n",
            "135: It’s good that you feel you can get away with whatever you want this weekend but be sensible about it.\n",
            "136: Don’t waste your time on trivial things, either trivial people as well or trivial people as badly as you are going to do today.\n",
            "137: It may not be what your inner voice tells you but if it’s what they tell you then it’s unlikely you will heed them.\n",
            "138: Try not to make any sudden moves today.\n",
            "139: If so, don’t waste your time on petty arguments with people whose views and opinions you disapprove of.\n",
            "140: A problem you seem to have run away from, will remain and will never be found.\n",
            "141: What others think and mean may seem important to you but deep down you know there are things you have missed and with Venus and Pluto strong in your chart today you must make a conscious effort not to be distracted.\n",
            "142: You will have to do a lot of small things for a lot of people over the next few days and you will certainly have to do many small things for yourself.\n",
            "143: Just because certain things do not work out the way you expected does not mean it is not possible.\n",
            "144: A social invitation will come your way today but you must not neglect your own interests.\n",
            "145: You will be at the center of attention today but don’t be too negative.\n",
            "146: But what we are seeing is the same thing as what we see.\n",
            "147: You may fear the worst, of course, but you must not give up hope because even if it happens you can still make a few more friends.\n",
            "148: Make the most of the Sun’s imminent change of signs to help you get back on track as you are now.\n",
            "149: If you want to get things done you have to be selective in who you let off steam.\n",
            "150: The more you do for yourself the more you will get for free – don’t worry that other people are not as motivated as you.\n",
            "151: That would be foolish, and most likely dangerous.\n",
            "152: Someone in a position of power needs to stay in control.\n",
            "153: Don’t waste time arguing with people who will never be friends with you.\n",
            "154: A job is worth doing but before you do make sure that you don’t allow yourself to get carried away.\n",
            "155: There are times when even the best of mates have to make life tough for you and this is one of them.\n",
            "156: This could be a tense day but if you keep your feelings under control it will lead to a peaceful rest.\n",
            "157: What you do with your cash over the next few days should not be taken for granted and will in fact be a great deal of fun.\n",
            "158: Try not to overreact to someone who annoys you in any way.\n",
            "159: No matter how badly the first attempt failed you would still be amazed how easily it worked in the end.\n",
            "160: Take advantage of everything you’ve got – you’ve got so much to look forward to.\n",
            "161: Cosmic activity in the most sensitive area of your chart makes you hugely ambitious but you still need to think before you act.\n",
            "162: They won’t make you happier or healthier by refusing to work together.\n",
            "163: The Sun in the domestic area of your chart will help you find ways to ease certain problems.\n",
            "164: Try not to go too hard.\n",
            "165: The old proverb says that “easy come, easy go”—even a Gemini needs help.\n",
            "166: If you give them a hard time today it could lead to a situation you know nothing about.\n",
            "167: Make sure they know your full names.\n",
            "168: A little bit of self-belief and then a lot of self-control will work wonders – and it will pay off big time.\n",
            "169: Your first task today and over the weekend is to get them to see sense, not just in their words but in your actions.\n",
            "170: If you want to get noticed you will have to spell out in plain and simple language what it is you want to accomplish.\n",
            "171: That is why it is sometimes so hard to make sense of what your body, mind and soul are trying to tell you, but you can’t quite shake off the feeling that there is a hidden power guiding you.\n",
            "172: You don’t need to get angry and tell them what they should do.\n",
            "173: That applies to all areas of your life, especially if your cashflow situation is a little too solid for comfort.\n",
            "174: Your confidence has taken a bit of a dive of late and if you are smart you will adjust your sights a bit.\n",
            "175: Be ruthless by all means, both in your personal life and at work.\n",
            "176: The Sun’s move into the most dynamic area of your chart today will do wonders for your confidence but others won’t be happy about it – they will be a bit more assertive later on.\n",
            "177: If you are in any way ambitious, then now is the time to act.\n",
            "178: No matter what happens you can be sure they can respect your opinion on almost anything – so let them.\n",
            "179: If you ask nicely then get what you want for free.\n",
            "180: You may feel at ease by nature at the moment but you should make sure you know the right words for the right person.\n",
            "181: The planets warn that a family matter that does not concern you will come up for air today, so let things happen for a while.\n",
            "182: Don’t be afraid to ask for help, even if it doesn’t amount to anything.\n",
            "183: You can sense that something serious is about to happen, but it won’t be anything to look forward to or pay heed to.\n",
            "184: In fact, if anything you should be trying to learn from other people – you’ve had so many great ideas of late that you have yet to get a single one of them right.\n",
            "185: The reason for this unexpected variation is that consciousness is a field of conditioned and unchanging states in a complex pattern--not by chance, but in the course of conscious action in the form of events or thoughts.\n",
            "186: Be blunt if you have to.\n",
            "187: It’s time to go public with your feelings.\n",
            "188: It doesn’t really matter if it is right or wrong, what matters is that you do a good deed for someone else.\n",
            "189: That might sound a bit harsh but it’s true.\n",
            "190: Make a point of getting assistance from people who can help you move up in the world.\n",
            "191: If you think you have what it takes, make the most of it.\n",
            "192: You know what needs to be done.\n",
            "193: You seem to be rushing away from what you are working on.\n",
            "194: A]ny attempt to get rid of the past in any form is met with a great response, and that response is the present, which is why it seems to me to be such a difficult and exasperating process.\n",
            "195: Don’t let your fears get the better of you over the next few days because your energy levels will increase by several orders of magnitude.\n",
            "196: And I saw i as I saw a white horse as of a cloudburst, wither in mid heaven and upon the earth: but he is gone.\n",
            "197: Try not to be so open and honest with other people today because it could cause problems later on, especially on the work front where you need to give certain individuals the benefit of the doubt.\n",
            "198: According to the planets you should expect to get your financial house in order over the next few days.\n",
            "199: Do not go into a panic about money matters.\n"
          ],
          "name": "stdout"
        }
      ]
    },
    {
      "cell_type": "code",
      "metadata": {
        "id": "-JCpE7KzmkUY"
      },
      "source": [
        "idx_to_drop2 = [8, 16, 17, 18, 28, 29, 30, 31, 34, 36, 38, 39, 46, \n",
        "                 51, 53, 57, 62, 65, 67, 68, 69, 80, 83, 90, 94, 95, 97, \n",
        "                 103, 105, 106, 107, 108, 109, 110, 111, 112, 113, \n",
        "                 122, 124, 126, 128, 130, 132, 133, 136, 137, 141, 148, 149, \n",
        "                 161, 162, 163, 165, 167, 173, 176, 189, 194, 196, 198]"
      ],
      "execution_count": null,
      "outputs": []
    },
    {
      "cell_type": "code",
      "metadata": {
        "colab": {
          "base_uri": "https://localhost:8080/",
          "height": 419
        },
        "id": "0oU8zt14mkaL",
        "outputId": "9f72bd24-d343-4777-9750-67188902bec8"
      },
      "source": [
        "meanings_df2 = pd.DataFrame(meanings2, columns=['meanings'])\n",
        "meanings_df2.drop(index=idx_to_drop2, inplace=True)\n",
        "meanings_df2"
      ],
      "execution_count": null,
      "outputs": [
        {
          "output_type": "execute_result",
          "data": {
            "text/html": [
              "<div>\n",
              "<style scoped>\n",
              "    .dataframe tbody tr th:only-of-type {\n",
              "        vertical-align: middle;\n",
              "    }\n",
              "\n",
              "    .dataframe tbody tr th {\n",
              "        vertical-align: top;\n",
              "    }\n",
              "\n",
              "    .dataframe thead th {\n",
              "        text-align: right;\n",
              "    }\n",
              "</style>\n",
              "<table border=\"1\" class=\"dataframe\">\n",
              "  <thead>\n",
              "    <tr style=\"text-align: right;\">\n",
              "      <th></th>\n",
              "      <th>meanings</th>\n",
              "    </tr>\n",
              "  </thead>\n",
              "  <tbody>\n",
              "    <tr>\n",
              "      <th>0</th>\n",
              "      <td>Yes, you can do things that others don’t, but ...</td>\n",
              "    </tr>\n",
              "    <tr>\n",
              "      <th>1</th>\n",
              "      <td>Some people may say that you are desperate but...</td>\n",
              "    </tr>\n",
              "    <tr>\n",
              "      <th>2</th>\n",
              "      <td>No matter how independent-minded you may be in...</td>\n",
              "    </tr>\n",
              "    <tr>\n",
              "      <th>3</th>\n",
              "      <td>You have no limits, so long as you don’t take ...</td>\n",
              "    </tr>\n",
              "    <tr>\n",
              "      <th>4</th>\n",
              "      <td>Your mind will be open and honest today and th...</td>\n",
              "    </tr>\n",
              "    <tr>\n",
              "      <th>...</th>\n",
              "      <td>...</td>\n",
              "    </tr>\n",
              "    <tr>\n",
              "      <th>192</th>\n",
              "      <td>You know what needs to be done.</td>\n",
              "    </tr>\n",
              "    <tr>\n",
              "      <th>193</th>\n",
              "      <td>You seem to be rushing away from what you are ...</td>\n",
              "    </tr>\n",
              "    <tr>\n",
              "      <th>195</th>\n",
              "      <td>Don’t let your fears get the better of you ove...</td>\n",
              "    </tr>\n",
              "    <tr>\n",
              "      <th>197</th>\n",
              "      <td>Try not to be so open and honest with other pe...</td>\n",
              "    </tr>\n",
              "    <tr>\n",
              "      <th>199</th>\n",
              "      <td>Do not go into a panic about money matters.</td>\n",
              "    </tr>\n",
              "  </tbody>\n",
              "</table>\n",
              "<p>140 rows × 1 columns</p>\n",
              "</div>"
            ],
            "text/plain": [
              "                                              meanings\n",
              "0    Yes, you can do things that others don’t, but ...\n",
              "1    Some people may say that you are desperate but...\n",
              "2    No matter how independent-minded you may be in...\n",
              "3    You have no limits, so long as you don’t take ...\n",
              "4    Your mind will be open and honest today and th...\n",
              "..                                                 ...\n",
              "192                    You know what needs to be done.\n",
              "193  You seem to be rushing away from what you are ...\n",
              "195  Don’t let your fears get the better of you ove...\n",
              "197  Try not to be so open and honest with other pe...\n",
              "199        Do not go into a panic about money matters.\n",
              "\n",
              "[140 rows x 1 columns]"
            ]
          },
          "metadata": {
            "tags": []
          },
          "execution_count": 38
        }
      ]
    },
    {
      "cell_type": "code",
      "metadata": {
        "colab": {
          "base_uri": "https://localhost:8080/"
        },
        "id": "XK1j-moNmkhl",
        "outputId": "c0de33c6-3af5-4e59-f2a2-4184447be7cf"
      },
      "source": [
        "meanings_list = list(set(meanings_df.meanings.tolist() + meanings_df2.meanings.tolist()))\n",
        "print(f'Total meanings: {len(meanings_list)}')\n",
        "print(f'Number of meanings per card: {len(meanings_list)/22:.2f}')"
      ],
      "execution_count": null,
      "outputs": [
        {
          "output_type": "stream",
          "text": [
            "Total meanings: 266\n",
            "Number of meanings per card: 12.09\n"
          ],
          "name": "stdout"
        }
      ]
    },
    {
      "cell_type": "markdown",
      "metadata": {
        "id": "inPYdbmNjMTZ"
      },
      "source": [
        "This should be sufficient - now to save these as a txt file for later use."
      ]
    },
    {
      "cell_type": "code",
      "metadata": {
        "id": "W1r6H7mZmknj"
      },
      "source": [
        "# save for later use\n",
        "with open(\"/content/drive/MyDrive/gpt2/tarot_meanings.txt\", mode='w', encoding='utf-8') as myfile:\n",
        "    myfile.write('\\n'.join(meanings_list))"
      ],
      "execution_count": null,
      "outputs": []
    },
    {
      "cell_type": "markdown",
      "metadata": {
        "id": "tMNwTvUUh-F6"
      },
      "source": [
        "### Questions to ask\n",
        "\n",
        "Tarot cards typically raise additional questions to ponder as part of the process. \n",
        "\n",
        "I'll seed the model with the following question prompt words below:"
      ]
    },
    {
      "cell_type": "code",
      "metadata": {
        "colab": {
          "base_uri": "https://localhost:8080/"
        },
        "id": "AGqr8s6eh9c6",
        "outputId": "38cb2d1f-2799-4b87-80f4-2c5af9a3757e"
      },
      "source": [
        "question_prefixes = ['Who will', 'Who is', 'Who can', 'Who has',\n",
        "                     'What is', 'What if', 'What would', 'What do', 'What assumptions', \n",
        "                     'When will', 'When can',\n",
        "                     'Where can', 'Where is', 'Where should',\n",
        "                     'Why is', 'Why are', 'Why did', 'Why should',\n",
        "                     'How can I', 'How might', 'How is', 'How do', \n",
        "                     'Should they', 'Should I', \n",
        "                     'Would I', 'Would they',\n",
        "                     'Can I', 'Can they',\n",
        "                     'Is it', 'Is there'\n",
        "                    ]\n",
        "\n",
        "len(question_prefixes)               "
      ],
      "execution_count": null,
      "outputs": [
        {
          "output_type": "execute_result",
          "data": {
            "text/plain": [
              "30"
            ]
          },
          "metadata": {
            "tags": []
          },
          "execution_count": 10
        }
      ]
    },
    {
      "cell_type": "code",
      "metadata": {
        "colab": {
          "base_uri": "https://localhost:8080/"
        },
        "id": "8JHdOIjBh9j2",
        "outputId": "4f88280f-00b2-42f1-a6d7-da42fd9351fc"
      },
      "source": [
        "questions = []\n",
        "num_q = 10\n",
        "\n",
        "\n",
        "for prompt in question_prefixes:\n",
        "    q_list = generate_text_list(num_q, prompt=prompt)\n",
        "    questions.append(q_list)"
      ],
      "execution_count": null,
      "outputs": [
        {
          "output_type": "stream",
          "text": [
            "Setting `pad_token_id` to `eos_token_id`:50256 for open-end generation.\n",
            "Setting `pad_token_id` to `eos_token_id`:50256 for open-end generation.\n",
            "Setting `pad_token_id` to `eos_token_id`:50256 for open-end generation.\n",
            "Setting `pad_token_id` to `eos_token_id`:50256 for open-end generation.\n",
            "Setting `pad_token_id` to `eos_token_id`:50256 for open-end generation.\n",
            "Setting `pad_token_id` to `eos_token_id`:50256 for open-end generation.\n",
            "Setting `pad_token_id` to `eos_token_id`:50256 for open-end generation.\n",
            "Setting `pad_token_id` to `eos_token_id`:50256 for open-end generation.\n",
            "Setting `pad_token_id` to `eos_token_id`:50256 for open-end generation.\n",
            "Setting `pad_token_id` to `eos_token_id`:50256 for open-end generation.\n",
            "Setting `pad_token_id` to `eos_token_id`:50256 for open-end generation.\n",
            "Setting `pad_token_id` to `eos_token_id`:50256 for open-end generation.\n",
            "Setting `pad_token_id` to `eos_token_id`:50256 for open-end generation.\n",
            "Setting `pad_token_id` to `eos_token_id`:50256 for open-end generation.\n",
            "Setting `pad_token_id` to `eos_token_id`:50256 for open-end generation.\n",
            "Setting `pad_token_id` to `eos_token_id`:50256 for open-end generation.\n",
            "Setting `pad_token_id` to `eos_token_id`:50256 for open-end generation.\n",
            "Setting `pad_token_id` to `eos_token_id`:50256 for open-end generation.\n",
            "Setting `pad_token_id` to `eos_token_id`:50256 for open-end generation.\n",
            "Setting `pad_token_id` to `eos_token_id`:50256 for open-end generation.\n",
            "Setting `pad_token_id` to `eos_token_id`:50256 for open-end generation.\n",
            "Setting `pad_token_id` to `eos_token_id`:50256 for open-end generation.\n",
            "Setting `pad_token_id` to `eos_token_id`:50256 for open-end generation.\n",
            "Setting `pad_token_id` to `eos_token_id`:50256 for open-end generation.\n",
            "Setting `pad_token_id` to `eos_token_id`:50256 for open-end generation.\n",
            "Setting `pad_token_id` to `eos_token_id`:50256 for open-end generation.\n",
            "Setting `pad_token_id` to `eos_token_id`:50256 for open-end generation.\n",
            "Setting `pad_token_id` to `eos_token_id`:50256 for open-end generation.\n",
            "Setting `pad_token_id` to `eos_token_id`:50256 for open-end generation.\n",
            "Setting `pad_token_id` to `eos_token_id`:50256 for open-end generation.\n"
          ],
          "name": "stderr"
        }
      ]
    },
    {
      "cell_type": "code",
      "metadata": {
        "colab": {
          "base_uri": "https://localhost:8080/"
        },
        "id": "k6R4R32Ph9gs",
        "outputId": "d672e74f-eb41-4661-9c7b-733898085d00"
      },
      "source": [
        "questions[0]"
      ],
      "execution_count": null,
      "outputs": [
        {
          "output_type": "execute_result",
          "data": {
            "text/plain": [
              "['Who will take the world by storm over the next 48 hours.',\n",
              " 'Who will be back in full force again soon.',\n",
              " 'Who will they be trying to trick you?',\n",
              " 'Who will you play the role of wise guy or woman?',\n",
              " 'Who will you give me more freedom and responsibilities later on?',\n",
              " 'Who will go out of your way to make it seem as if everyone is as stupid as you!',\n",
              " 'Who will you get the breakthrough you crave?',\n",
              " 'Who will make you smile.',\n",
              " 'Who will be fun.',\n",
              " 'Who will be watching over you very soon.']"
            ]
          },
          "metadata": {
            "tags": []
          },
          "execution_count": 12
        }
      ]
    },
    {
      "cell_type": "code",
      "metadata": {
        "id": "_zspk-5Ph9aG",
        "colab": {
          "base_uri": "https://localhost:8080/"
        },
        "outputId": "547d6dbe-23ba-40dc-abe5-5ed14ad40cff"
      },
      "source": [
        "questions = list(set([q for sublist in questions for q in sublist]))\n",
        "len(questions)"
      ],
      "execution_count": null,
      "outputs": [
        {
          "output_type": "execute_result",
          "data": {
            "text/plain": [
              "297"
            ]
          },
          "metadata": {
            "tags": []
          },
          "execution_count": 13
        }
      ]
    },
    {
      "cell_type": "code",
      "metadata": {
        "colab": {
          "base_uri": "https://localhost:8080/"
        },
        "id": "NqwpXEI6h9AN",
        "outputId": "2b5bda15-93eb-4828-c6b4-0688b089e9ff"
      },
      "source": [
        "for i, q in enumerate(questions):\n",
        "    print(f'{i}: {q}')"
      ],
      "execution_count": null,
      "outputs": [
        {
          "output_type": "stream",
          "text": [
            "0: Would they feel for having such a big idea.\n",
            "1: Who is it worth fighting for?\n",
            "2: What if you are the kind of Cancerian who likes to stay within logical bounds the planets indicate you will be rewarded in some way for your efforts.\n",
            "3: Who has not been found\n",
            "4: Should they are not really that bad.\n",
            "5: Why are you really that good at being tough?\n",
            "6: Where is not what thou sawest, and that thou shouldest fear no more.\n",
            "7: What would you do if you could?\n",
            "8: What assumptions govern my daily activities and I don’t understand why other people choose to ignore me when so many have the opportunity to give me something or someone.\n",
            "9: When will you go it alone?\n",
            "10: How do you try something different or what is it that takes you?\n",
            "11: Where is it permissible to eat money after all?\n",
            "12: Where should you listen to them?\n",
            "13: Can I’ve had two cups of coffee in my hand for several weeks.\n",
            "14: How do you care about it?\n",
            "15: Would I have never had a bird in my mouth.\n",
            "16: When can you take responsibility for what happened in the first place?\n",
            "17: Should I can't believe that I’ve never been there before.\n",
            "18: How is your attitude change?\n",
            "19: How can I be more open about my sexuality?\n",
            "20: What do they mean it?\n",
            "21: Who has a care in the world Don’t make a big issue of something that does not matter, be it personal or financial.\n",
            "22: Why are you being irresponsible for wanting to know that the world is going your way, or is it being forced to change course, with a clear conscience?\n",
            "23: Who has the power to tell you what to do.\n",
            "24: What would you do differently?\n",
            "25: Why should they be doing you any real harm?\n",
            "26: How do you use that?\n",
            "27: Who can you help them succeed?\n",
            "28: Can they may think they are being protected and maybe they are but deep down you know that you are being manipulated and deceived.\n",
            "29: Why did they see your face?\n",
            "30: Is it’s not that you don’t care for each other, but that you would prefer to get along so well together that you’re in alliance with everyone.\n",
            "31: How might that be?\n",
            "32: Is it’s better to be one of the few who feels good about yourself.\n",
            "33: Why is it possible that someone is trying to get close to you?\n",
            "34: When will you get the message?\n",
            "35: Would they don’t mean it!\n",
            "36: Why should you ever be forced to give up control of your destiny?\n",
            "37: Who can’t you be?\n",
            "38: How might you make of the fact that they are really your friends?\n",
            "39: Should I]t is absurd to say that a book is simply a record of words, to say that a book is simply the view of things which are in some measure or other a part of the experience of life—even though it is not the case that the whole of life is a record of words.\n",
            "40: Who will be back in full force again soon.\n",
            "41: Would they can’t read your mind!\n",
            "42: What is the most important thing?\n",
            "43: Where is your outlook on life?\n",
            "44: Why is that your way of hiding something from yourself?\n",
            "45: How is life like this?\n",
            "46: Would I cannot escape from this dilemma.\n",
            "47: How can I avoid the pitfalls of social or professional communication?\n",
            "48: Would I’ve had enough of your nonsense.\n",
            "49: Who is in this world?\"\n",
            "50: Who will be watching over you very soon.\n",
            "51: What do you think about it?\n",
            "52: What is the next movement?\n",
            "53: What assumptions seem to hold for quite a while – as from today you may be surprised how easy it is to make sense of things, especially for people in positions of power.\n",
            "54: Why is it really that easy?\n",
            "55: Who can you trust?\n",
            "56: Who can we look for the truth in everything?\n",
            "57: How do you want it to end?\n",
            "58: Is there something you have overlooked?\n",
            "59: Would they won’t come around again for a day or two.\n",
            "60: Would they know what they are talking about.\n",
            "61: How do you think of what you are doing and do you use your powers of inspiration to do it?\n",
            "62: Why should you listen to them?\n",
            "63: Is it’s what you know for certain that matters.\n",
            "64: When will you?\n",
            "65: Would I have to cut the number of hours worked today to, and I will also cut the number of weekends I have to spend relaxing with my family.\n",
            "66: Where should we be happy and healthy?\n",
            "67: When can you trust your own intuition?\n",
            "68: How might it take more courage to forgive and forget?\n",
            "69: How is it worth it?\n",
            "70: Why is what you enjoy so much?\n",
            "71: Why did you?\n",
            "72: When can you have more fun?\n",
            "73: Why are they trying to hurt you?\n",
            "74: Why should you want to be somewhere else?\n",
            "75: What would you do if someone whose beliefs you have farmed for centuries simply kept the idea to himself?\n",
            "76: Should I am not trying to prove them wrong, for the same reason that a fish swims freely on water: to find it tough.\n",
            "77: Should I’m the person whose mind is all my own—a brain-driven, skin-wagging, black-and-red, disembodied, disembodied eye—with the sole purpose of living and loving as if it were my own body.\n",
            "78: Would I know thy works, and thy patience.\n",
            "79: Where should they be your enemies?\n",
            "80: Why is it you who is pushing them too hard?\n",
            "81: When can I feel more deeply about my feelings?\n",
            "82: How can I get a grip on myself?\n",
            "83: How is your motivation the cause of your current problems?\n",
            "84: Can they do not mean you any harm.\n",
            "85: What if they don’t, keep it to yourself – and don’t let anyone tell you to make decisions for them.\n",
            "86: Is there something you want to say or do but don’t quite know what it is?\n",
            "87: Can they’re just a passing fancy.\n",
            "88: Should they will be happy to thank you for it.\n",
            "89: What do they mean something?\n",
            "90: Who has nothing to do with you?\n",
            "91: Who is he who pretends to know himself?\n",
            "92: Why should I have the right to make decisions for my family and for the world?\n",
            "93: Would I will go on saying that it is only me who feels it is all the “s” – but it is really not that simple.\n",
            "94: Where can you really afford to be generous?\n",
            "95: Is it may seem as if your career has slipped along at a snail’s pace but don’t think of it as luck or sour grapes – it will start getting better in the near future.\n",
            "96: What assumptions are important too.\n",
            "97: Why are you trying to force them to change your ways?\n",
            "98: What would you prefer to pretend that your existence was my reality?\n",
            "99: Where can I really trust people who make the world a better place?\n",
            "100: Where can I use my talents creatively?\n",
            "101: When can you be sure that your feelings and instincts are not being put to the test?\n",
            "102: Where is it actually possible that I'm making more progress than I have been making?\n",
            "103: How might it make others jealous?\n",
            "104: Can I saw, I hear:The image of Waiting.\n",
            "105: What would your ruling be if your life were the only one where you made decisions for yourself?\n",
            "106: What do you want them to see and accept?\n",
            "107: Why should they want it all?\n",
            "108: Can they were for your own good.\n",
            "109: Is it’s time to move on.\n",
            "110: What would you do without the benefit of hindsight?\n",
            "111: What do you have in common?\n",
            "112: Who is your enemy?\n",
            "113: How might that be your aim?\n",
            "114: How is the good news in this respect?\n",
            "115: How is your heart racing?\n",
            "116: What assumptions and beliefs make you cautious and that’s good because there are things you have been worrying about that are holding you back.\n",
            "117: When can you trust what they tell you?\n",
            "118: Would they are just trying to provoke you into thinking you are going to do something foolish!\n",
            "119: How is it wrong to be honest?\n",
            "120: Why is it true that a small minority has the upper hand at the moment?\n",
            "121: What is this an effort you are making to impress other people?\n",
            "122: Who will you play the role of wise guy or woman?\n",
            "123: Can I can only speak as a script.\n",
            "124: Why are you the kind of Scorpio who can stand outside the crowd and see the good things that life has to offer?\n",
            "125: What if not, get some friends to do it for you.\n",
            "126: Would I love the woman whose tender form is the pattern of a star.\n",
            "127: Where can you be a bit more blunt in your assessment of a situation?\n",
            "128: Who will take the world by storm over the next 48 hours.\n",
            "129: What assumptions and preconceptions may be upsetting but they can always be turned on their ear.\n",
            "130: What if you make yourself scarce it won’t be long before the world is full of talented people who can bring out the best in you.\n",
            "131: Why is it really so important?\n",
            "132: Should I can hardly tell thee from the other side of the abyss, save thou knowest of them.\n",
            "133: How is your money situation in some way important?\n",
            "134: How do you choose?\n",
            "135: Where can you be sure they know?\n",
            "136: How do you go all out for glory?\n",
            "137: Should they will like what they see and, more importantly, their reaction will be positive, so the better!\n",
            "138: Where is that all you’re really got to do?\n",
            "139: Who is your spiritual leader?\n",
            "140: Why did you know the answer already?\n",
            "141: Where is it fun?\n",
            "142: Where can you get past fear and get on with your life?\n",
            "143: How do I feel more comfortable?\n",
            "144: Is there something you need to say, something you would like to let others know what you think and how you feel?\n",
            "145: How can I make a more realistic effort to finish a task that has been holding me back?\n",
            "146: Why did you know you could not fail?\n",
            "147: What is your ultimate goal?\n",
            "148: Who will they be trying to trick you?\n",
            "149: Why are you really that good?\n",
            "150: Why did you expect that?\n",
            "151: Would they will see fit to throw you under the bus.\n",
            "152: Should I feel that you are giving something away.\n",
            "153: Can I will say that I love thee with every breath and every sound, and the words of the song of the harpers are as the words of the stars, saying: Come and kiss, embrace and bear children.\n",
            "154: When will they see you for who you really are?\n",
            "155: Where is that good?\"\n",
            "156: Is there a certain amount of dread you have that you will never know better?\n",
            "157: Is there a solution to the current philosophical quandary?\n",
            "158: Can I don’t want to know.\n",
            "159: Can I don’t really want to know what you think about them, so the only way to cheer them up is to say nice things about you.\n",
            "160: Why should you be?\n",
            "161: What do you really want to change it?\n",
            "162: When will you realize that in all things “human” experience is basically meaningless?\n",
            "163: How can I learn from my own mistakes?\n",
            "164: Where can I do more to get my professional reputation back on track?\n",
            "165: What would you do if you knew that you were in one of your lucky few?\n",
            "166: Why are they so outrageous that they will actually be accepted as fact?\n",
            "167: How can I ask for more?\n",
            "168: Who can you turn a blind eye to?\n",
            "169: Why should you be aiming too high or aiming too low?\n",
            "170: Why is it in your interests to help people who are desperately trying to escape from harsh reality?\n",
            "171: Why is this what you dream about?\n",
            "172: Why did he see the difference between the two planes?\n",
            "173: What is this your time of year?\n",
            "174: Should they’re right.\n",
            "175: What do you stand to lose?\n",
            "176: Where is love really worth fighting about?\n",
            "177: Is there really is no point trying to solve the situation.\n",
            "178: Who will be fun.\n",
            "179: Why is it true that the most gifted of human beings have not the least bit of talent and don’t know what to do with it?\n",
            "180: What if someone in a position of authority insists on giving you their input this weekend you must be on your guard.\n",
            "181: Why are they doing something?\n",
            "182: What do you think the consequences could be?\n",
            "183: When can you believe everything?\n",
            "184: What is life really like that?\n",
            "185: Where should you take advantage of them?\n",
            "186: How might I change my way of thinking about the direction my social life is heading?\n",
            "187: How do you believe that what happens in the run-up to your lunar eclipse is actually good for you?\n",
            "188: Can they are, and always will be, for you.\n",
            "189: What would the Chinese say \"Aries!\"\n",
            "190: Why should I take the opportunity to make savings?\n",
            "191: Who will go out of your way to make it seem as if everyone is as stupid as you!\n",
            "192: Is it’s not true that you have an affair.\n",
            "193: How is there something you would change to make it easier for others to understand your aims?\n",
            "194: Who will you get the breakthrough you crave?\n",
            "195: Who can make life worth living?\n",
            "196: Is there really isn't any of that stuff.\n",
            "197: What is it you would prefer to keep secret?\n",
            "198: Is there a new plan?\n",
            "199: Where should you trust what others tell you?\n",
            "200: How might it be that you have not been giving your best but just being good?\n",
            "201: Can I have a vague idea that something wonderful is going to happen today but that is just an abstraction.\n",
            "202: Would they’re really no big deal.\n",
            "203: How might it be better to leave things as they are for a while?\n",
            "204: What if we want to find out, perhaps by chance, why it is so hard to see our own faces, we must find it by chance, we must find it out through the use of radar.\n",
            "205: How is the only defense against what I am capable of?\n",
            "206: When will you be able to put it off?\n",
            "207: Where should they care?\n",
            "208: Should I will look at the world in several different ways.\n",
            "209: When will that shock or delight you?\n",
            "210: How do what you can to help those in need.\n",
            "211: Who is it that motivates you?\n",
            "212: Can I saw thy great throne, and was [conquering] the earth, and the waters; and I heard no sound from the throne in the sight of men.\n",
            "213: Where should they really be so hard?\n",
            "214: Why are you aiming too high or aiming too low?\n",
            "215: What if it means not having to pay for something you get in return then don’t waste it.\n",
            "216: Where should you take advantage of that fact?\n",
            "217: Should they won’t.\n",
            "218: What do I want my peace of mind to start to crack?\n",
            "219: Should they’re the ones who really matter.\n",
            "220: Where should you trust your own instincts?\n",
            "221: Is it’s not about how many hours you have to work (which is usually something that takes up a lot of your time and energy) but about how much you have to spend on essentials.\n",
            "222: Who has the capacity to move mountains.\n",
            "223: Who has your back?\n",
            "224: What is your current mood?\n",
            "225: Why are you using this ability to influence the lives of people around you?\n",
            "226: Should I have not seen thee in thy place.\n",
            "227: Would I should wish that the world had not so brutally spoiled me.\n",
            "228: Who can’t fail?\n",
            "229: Why did you leave the old way for new and better ways?\n",
            "230: Would they have something in common, something that makes you want to look silly.\n",
            "231: How can I avoid giving too much away?\n",
            "232: Who has made so much progress in all areas of your life?\n",
            "233: What if you have any hidden greed, you must show it to everyone.\n",
            "234: Is it’s a mistake to start all over again like that.\n",
            "235: Who is the one who most needs helping?\n",
            "236: What assumptions and beliefs have no basis in reality or in any reality at all – you need to be a little more relaxed about them.\n",
            "237: When can it be that you don’t have it in for them?\n",
            "238: When can you trust them?\n",
            "239: Where can you possibly be more creative than that?\n",
            "240: When will you be able to apply those conclusions to your everyday situation?\n",
            "241: How can I live up to the greater good?\n",
            "242: Can I do not understand this second sense, but I am not aware of the first.\n",
            "243: Should they will see what you do for a change, but it may well be the latter.\n",
            "244: Who is it so you could be friends again?\n",
            "245: Can they’ll have you singing your praises wherever they can hear you!\n",
            "246: What if you made some kind of change to your lifestyle over the next two or three days you would most likely have to make that decision right now.\n",
            "247: Can they say “I love you so much I would gladly dance with you.”\n",
            "248: Who has found it difficult to get your message across in recent weeks?\n",
            "249: What is your motivation?\n",
            "250: Where can you trust that someone trustworthy will let you down?\n",
            "251: What would I have said “sorry” if, in return, they had kept their wits about me?\n",
            "252: Who is making such a fuss, and yet you find a way to make him smile, not tears.\n",
            "253: What do you think of what your friends do now?\n",
            "254: Should I say: in the presence of the Lamb God hath received and gave his throne unto the saints, and unto them that dwell in the midst of the throne, saying, Amen.\n",
            "255: Would I had thought it would all go wrong before, so take a few chances and have good things come your way.\n",
            "256: Should they really are that scared.\n",
            "257: Who has been waiting for an opportunity to get out of something that will in the long-term transform your existence?\n",
            "258: What if you go too far you could find the whole thing ends in tears.\n",
            "259: Is it is the discovery of God rather than the rejection of it.\n",
            "260: When will you hesitate to say “I didn”?\n",
            "261: What assumptions and conclusions you once used to respect may have no relevance at all today.\n",
            "262: Where should we, as rational people, expect other people to be happy in the same way?\n",
            "263: How might their attitude be if they were less likely to come to their senses?\n",
            "264: Where can you trust them?\n",
            "265: Would I know thy works, and thy works thou livest; and thou art dead.\n",
            "266: Where is that a wise idea?\n",
            "267: Where is it worth it?\n",
            "268: Why should we try to avoid it all?\n",
            "269: Would they have an advantage of some kind or other, so don’t be surprised if they regret it.\n",
            "270: What assumptions and conclusions you make will sound reasonable when you realize that they are not.\n",
            "271: Can they will come back after asking.\n",
            "272: Is there something you feel cannot be done?\n",
            "273: Why did they try?\n",
            "274: How can I help myself?\n",
            "275: Should they won’t be standing on their own!\n",
            "276: Is there?\n",
            "277: Who can do this?\n",
            "278: How can I afford it?\n",
            "279: Who can you blame for your woes?\n",
            "280: Should I may be a creature of habit, but I know that when I die, the past is past; I never feel that I know myself, but I know that when I take a leap, the past is my present.\n",
            "281: Can they are trying to keep you from realizing your potential.\n",
            "282: Can I know thy works.\n",
            "283: Why did you get what you wanted?\n",
            "284: Is it’s time to get real about what it means to be human.\n",
            "285: When will you be able to do it?\n",
            "286: What would you do if you knew how lucky you were?\n",
            "287: Should they’re not!\n",
            "288: Who will you give me more freedom and responsibilities later on?\n",
            "289: Can they’re not so bad.\n",
            "290: Who is in charge?\n",
            "291: How might it cost them a bit of time?\n",
            "292: Who will make you smile.\n",
            "293: What assumptions govern our lives and our way of looking at the world.\n",
            "294: What is the best revenge for your feelings of duty?\n",
            "295: Why did I say something just to make a point?\n",
            "296: What assumptions don’t work.\n"
          ],
          "name": "stdout"
        }
      ]
    },
    {
      "cell_type": "code",
      "metadata": {
        "colab": {
          "base_uri": "https://localhost:8080/",
          "height": 204
        },
        "id": "MK0mDODKHVXy",
        "outputId": "ef6bd2a8-55c1-4c37-b4b7-5829285213d5"
      },
      "source": [
        "q_df = pd.DataFrame(questions, columns=['questions'])\n",
        "q_df.head()"
      ],
      "execution_count": null,
      "outputs": [
        {
          "output_type": "execute_result",
          "data": {
            "text/html": [
              "<div>\n",
              "<style scoped>\n",
              "    .dataframe tbody tr th:only-of-type {\n",
              "        vertical-align: middle;\n",
              "    }\n",
              "\n",
              "    .dataframe tbody tr th {\n",
              "        vertical-align: top;\n",
              "    }\n",
              "\n",
              "    .dataframe thead th {\n",
              "        text-align: right;\n",
              "    }\n",
              "</style>\n",
              "<table border=\"1\" class=\"dataframe\">\n",
              "  <thead>\n",
              "    <tr style=\"text-align: right;\">\n",
              "      <th></th>\n",
              "      <th>questions</th>\n",
              "    </tr>\n",
              "  </thead>\n",
              "  <tbody>\n",
              "    <tr>\n",
              "      <th>0</th>\n",
              "      <td>Would they feel for having such a big idea.</td>\n",
              "    </tr>\n",
              "    <tr>\n",
              "      <th>1</th>\n",
              "      <td>Who is it worth fighting for?</td>\n",
              "    </tr>\n",
              "    <tr>\n",
              "      <th>2</th>\n",
              "      <td>What if you are the kind of Cancerian who like...</td>\n",
              "    </tr>\n",
              "    <tr>\n",
              "      <th>3</th>\n",
              "      <td>Who has not been found</td>\n",
              "    </tr>\n",
              "    <tr>\n",
              "      <th>4</th>\n",
              "      <td>Should they are not really that bad.</td>\n",
              "    </tr>\n",
              "  </tbody>\n",
              "</table>\n",
              "</div>"
            ],
            "text/plain": [
              "                                           questions\n",
              "0        Would they feel for having such a big idea.\n",
              "1                      Who is it worth fighting for?\n",
              "2  What if you are the kind of Cancerian who like...\n",
              "3                             Who has not been found\n",
              "4               Should they are not really that bad."
            ]
          },
          "metadata": {
            "tags": []
          },
          "execution_count": 15
        }
      ]
    },
    {
      "cell_type": "markdown",
      "metadata": {
        "id": "XKKvOEBwVgCp"
      },
      "source": [
        "After reiewing *every* question generated, I'll drop the following:"
      ]
    },
    {
      "cell_type": "code",
      "metadata": {
        "id": "qZbWpvcH8qDl"
      },
      "source": [
        "q_to_drop = [0, 2, 4, 6, 8, 10, 11, 12, 13, 15, 17, 18, \n",
        "             20, 21, 22, 26, 28, 29, 30, 31, 32, 35, 39, \n",
        "             41, 43, 46, 48, 49, 51, 53, 56, 59, 60, 63, 64, 65, \n",
        "             70, 71, 76, 77, 78, 79, 84, 85, 87, 88, 89, 93, 95, 96, 98, \n",
        "             104, 105, 108, 109, 111, 113, 114, 115, 116, 118, \n",
        "             121, 121, 122, 123, 124, 125, 129, 130, 132, 135, 137, 138, \n",
        "             148, 152, 153, 155, 158, 159, 160, 161, 165, 166, 169, \n",
        "             171, 172, 173, 174, 180, 184, 187, 188, 189, 190, 192, 193, 196, \n",
        "             201, 202, 204, 205, 208, 210, 212, 213, 214, 215, 216, 217, 218, 219, \n",
        "             221, 225, 226, 227, 230, 232, 233, 234, 236, 237, \n",
        "             242, 243, 244, 245, 246, 247, 248, 250, 251, 252, 254, 255, 256, 258, \n",
        "             260, 265, 267, 269, 271, 273, 275, 276, 280, 281, 282, 284, 287, 289]"
      ],
      "execution_count": null,
      "outputs": []
    },
    {
      "cell_type": "code",
      "metadata": {
        "id": "2qsyk8vBU_1o"
      },
      "source": [
        "q_df = q_df.drop(index=q_to_drop)"
      ],
      "execution_count": null,
      "outputs": []
    },
    {
      "cell_type": "code",
      "metadata": {
        "colab": {
          "base_uri": "https://localhost:8080/",
          "height": 419
        },
        "id": "LnkQYdx6VIUV",
        "outputId": "0cbf4f5b-e178-47a8-f509-455f46357240"
      },
      "source": [
        "q_df"
      ],
      "execution_count": null,
      "outputs": [
        {
          "output_type": "execute_result",
          "data": {
            "text/html": [
              "<div>\n",
              "<style scoped>\n",
              "    .dataframe tbody tr th:only-of-type {\n",
              "        vertical-align: middle;\n",
              "    }\n",
              "\n",
              "    .dataframe tbody tr th {\n",
              "        vertical-align: top;\n",
              "    }\n",
              "\n",
              "    .dataframe thead th {\n",
              "        text-align: right;\n",
              "    }\n",
              "</style>\n",
              "<table border=\"1\" class=\"dataframe\">\n",
              "  <thead>\n",
              "    <tr style=\"text-align: right;\">\n",
              "      <th></th>\n",
              "      <th>questions</th>\n",
              "    </tr>\n",
              "  </thead>\n",
              "  <tbody>\n",
              "    <tr>\n",
              "      <th>1</th>\n",
              "      <td>Who is it worth fighting for?</td>\n",
              "    </tr>\n",
              "    <tr>\n",
              "      <th>3</th>\n",
              "      <td>Who has not been found</td>\n",
              "    </tr>\n",
              "    <tr>\n",
              "      <th>5</th>\n",
              "      <td>Why are you really that good at being tough?</td>\n",
              "    </tr>\n",
              "    <tr>\n",
              "      <th>7</th>\n",
              "      <td>What would you do if you could?</td>\n",
              "    </tr>\n",
              "    <tr>\n",
              "      <th>9</th>\n",
              "      <td>When will you go it alone?</td>\n",
              "    </tr>\n",
              "    <tr>\n",
              "      <th>...</th>\n",
              "      <td>...</td>\n",
              "    </tr>\n",
              "    <tr>\n",
              "      <th>292</th>\n",
              "      <td>Who will make you smile.</td>\n",
              "    </tr>\n",
              "    <tr>\n",
              "      <th>293</th>\n",
              "      <td>What assumptions govern our lives and our way ...</td>\n",
              "    </tr>\n",
              "    <tr>\n",
              "      <th>294</th>\n",
              "      <td>What is the best revenge for your feelings of ...</td>\n",
              "    </tr>\n",
              "    <tr>\n",
              "      <th>295</th>\n",
              "      <td>Why did I say something just to make a point?</td>\n",
              "    </tr>\n",
              "    <tr>\n",
              "      <th>296</th>\n",
              "      <td>What assumptions don’t work.</td>\n",
              "    </tr>\n",
              "  </tbody>\n",
              "</table>\n",
              "<p>149 rows × 1 columns</p>\n",
              "</div>"
            ],
            "text/plain": [
              "                                             questions\n",
              "1                        Who is it worth fighting for?\n",
              "3                               Who has not been found\n",
              "5         Why are you really that good at being tough?\n",
              "7                      What would you do if you could?\n",
              "9                           When will you go it alone?\n",
              "..                                                 ...\n",
              "292                           Who will make you smile.\n",
              "293  What assumptions govern our lives and our way ...\n",
              "294  What is the best revenge for your feelings of ...\n",
              "295      Why did I say something just to make a point?\n",
              "296                       What assumptions don’t work.\n",
              "\n",
              "[149 rows x 1 columns]"
            ]
          },
          "metadata": {
            "tags": []
          },
          "execution_count": 18
        }
      ]
    },
    {
      "cell_type": "markdown",
      "metadata": {
        "id": "DOe14K94VWjk"
      },
      "source": [
        "Some of these don't have question marks at the end, so I'll replace any ending punctuation with a '?'"
      ]
    },
    {
      "cell_type": "code",
      "metadata": {
        "id": "anm7QtnLkAOu"
      },
      "source": [
        "def make_question(text):\n",
        "    if text[-1] != '?':\n",
        "        text = text[:-1]\n",
        "        text += '?'       \n",
        "    return text    "
      ],
      "execution_count": null,
      "outputs": []
    },
    {
      "cell_type": "code",
      "metadata": {
        "id": "7TuD6vAJVNYN"
      },
      "source": [
        "q_df['questions'] = q_df['questions'].map(make_question)"
      ],
      "execution_count": null,
      "outputs": []
    },
    {
      "cell_type": "code",
      "metadata": {
        "colab": {
          "base_uri": "https://localhost:8080/",
          "height": 419
        },
        "id": "EbeiHDM4VTbD",
        "outputId": "1989f701-38ec-4903-dc1b-93e5353ec431"
      },
      "source": [
        "q_df"
      ],
      "execution_count": null,
      "outputs": [
        {
          "output_type": "execute_result",
          "data": {
            "text/html": [
              "<div>\n",
              "<style scoped>\n",
              "    .dataframe tbody tr th:only-of-type {\n",
              "        vertical-align: middle;\n",
              "    }\n",
              "\n",
              "    .dataframe tbody tr th {\n",
              "        vertical-align: top;\n",
              "    }\n",
              "\n",
              "    .dataframe thead th {\n",
              "        text-align: right;\n",
              "    }\n",
              "</style>\n",
              "<table border=\"1\" class=\"dataframe\">\n",
              "  <thead>\n",
              "    <tr style=\"text-align: right;\">\n",
              "      <th></th>\n",
              "      <th>questions</th>\n",
              "    </tr>\n",
              "  </thead>\n",
              "  <tbody>\n",
              "    <tr>\n",
              "      <th>1</th>\n",
              "      <td>Who is it worth fighting for?</td>\n",
              "    </tr>\n",
              "    <tr>\n",
              "      <th>3</th>\n",
              "      <td>Who has not been foun?</td>\n",
              "    </tr>\n",
              "    <tr>\n",
              "      <th>5</th>\n",
              "      <td>Why are you really that good at being tough?</td>\n",
              "    </tr>\n",
              "    <tr>\n",
              "      <th>7</th>\n",
              "      <td>What would you do if you could?</td>\n",
              "    </tr>\n",
              "    <tr>\n",
              "      <th>9</th>\n",
              "      <td>When will you go it alone?</td>\n",
              "    </tr>\n",
              "    <tr>\n",
              "      <th>...</th>\n",
              "      <td>...</td>\n",
              "    </tr>\n",
              "    <tr>\n",
              "      <th>292</th>\n",
              "      <td>Who will make you smile?</td>\n",
              "    </tr>\n",
              "    <tr>\n",
              "      <th>293</th>\n",
              "      <td>What assumptions govern our lives and our way ...</td>\n",
              "    </tr>\n",
              "    <tr>\n",
              "      <th>294</th>\n",
              "      <td>What is the best revenge for your feelings of ...</td>\n",
              "    </tr>\n",
              "    <tr>\n",
              "      <th>295</th>\n",
              "      <td>Why did I say something just to make a point?</td>\n",
              "    </tr>\n",
              "    <tr>\n",
              "      <th>296</th>\n",
              "      <td>What assumptions don’t work?</td>\n",
              "    </tr>\n",
              "  </tbody>\n",
              "</table>\n",
              "<p>149 rows × 1 columns</p>\n",
              "</div>"
            ],
            "text/plain": [
              "                                             questions\n",
              "1                        Who is it worth fighting for?\n",
              "3                               Who has not been foun?\n",
              "5         Why are you really that good at being tough?\n",
              "7                      What would you do if you could?\n",
              "9                           When will you go it alone?\n",
              "..                                                 ...\n",
              "292                           Who will make you smile?\n",
              "293  What assumptions govern our lives and our way ...\n",
              "294  What is the best revenge for your feelings of ...\n",
              "295      Why did I say something just to make a point?\n",
              "296                       What assumptions don’t work?\n",
              "\n",
              "[149 rows x 1 columns]"
            ]
          },
          "metadata": {
            "tags": []
          },
          "execution_count": 21
        }
      ]
    },
    {
      "cell_type": "code",
      "metadata": {
        "colab": {
          "base_uri": "https://localhost:8080/"
        },
        "id": "vrrht_F_k_p_",
        "outputId": "2fe02b78-9f71-47d4-9d49-df34b04e09e0"
      },
      "source": [
        "print(f'Questions per card: {len(q_df)/22:.2f}')"
      ],
      "execution_count": null,
      "outputs": [
        {
          "output_type": "stream",
          "text": [
            "Questions per card: 6.77\n"
          ],
          "name": "stdout"
        }
      ]
    },
    {
      "cell_type": "markdown",
      "metadata": {
        "id": "Z8EQD_GKjocO"
      },
      "source": [
        "I'll want at most 3 questions per card, so this should be sufficient."
      ]
    },
    {
      "cell_type": "code",
      "metadata": {
        "id": "ZyZCETwvWlpt"
      },
      "source": [
        "q = q_df.questions.tolist()\n",
        "\n",
        "with open(\"/content/drive/MyDrive/gpt2/questions.txt\", mode='w', encoding='utf-8') as myfile:\n",
        "    myfile.write('\\n'.join(q))"
      ],
      "execution_count": null,
      "outputs": []
    }
  ]
}