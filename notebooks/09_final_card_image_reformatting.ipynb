{
 "cells": [
  {
   "cell_type": "code",
   "execution_count": 1,
   "metadata": {
    "ExecuteTime": {
     "end_time": "2020-12-05T23:43:26.765255Z",
     "start_time": "2020-12-05T23:43:26.730433Z"
    }
   },
   "outputs": [],
   "source": [
    "import os\n",
    "from PIL import Image, ImageOps"
   ]
  },
  {
   "cell_type": "code",
   "execution_count": 2,
   "metadata": {
    "ExecuteTime": {
     "end_time": "2020-12-05T23:43:28.343529Z",
     "start_time": "2020-12-05T23:43:28.341509Z"
    }
   },
   "outputs": [],
   "source": [
    "card_path = '/Users/scrapfish/coding/metis/project5/ai-generated-tarot/card_imgs'"
   ]
  },
  {
   "cell_type": "code",
   "execution_count": 3,
   "metadata": {
    "ExecuteTime": {
     "end_time": "2020-12-05T23:43:29.773381Z",
     "start_time": "2020-12-05T23:43:29.714886Z"
    }
   },
   "outputs": [],
   "source": [
    "test = 'c00.png'\n",
    "img = Image.open(f'{card_path}/{test}') \n",
    "\n",
    "img.show()"
   ]
  },
  {
   "cell_type": "code",
   "execution_count": 4,
   "metadata": {
    "ExecuteTime": {
     "end_time": "2020-12-05T23:43:34.406604Z",
     "start_time": "2020-12-05T23:43:34.401943Z"
    }
   },
   "outputs": [],
   "source": [
    "def format_cards(directory):\n",
    "    print('Fetching files...')\n",
    "    print(\"==================\")\n",
    "    \n",
    "    count = 1\n",
    "    \n",
    "    for file in os.listdir(directory):\n",
    "        if file[-3:] == 'png':\n",
    "            f_img = f'{directory}/{file}'\n",
    "            img = Image.open(f_img)\n",
    "            \n",
    "            w, h = img.size\n",
    "            img = img.crop((100, 0, w-100, h))\n",
    "            img_with_border = ImageOps.expand(img, border=25, fill='black')\n",
    "\n",
    "            img_with_border.save(f'{directory}/{file}')\n",
    "            print(f'File {file} resized!')\n",
    "            count += 1\n",
    "            \n",
    "    print(\"==================\")    \n",
    "    print(\"Resizing complete.\")\n",
    "    print(f'Number of photos resized: {count}')"
   ]
  },
  {
   "cell_type": "code",
   "execution_count": 5,
   "metadata": {
    "ExecuteTime": {
     "end_time": "2020-12-05T23:43:37.505343Z",
     "start_time": "2020-12-05T23:43:36.502239Z"
    }
   },
   "outputs": [
    {
     "name": "stdout",
     "output_type": "stream",
     "text": [
      "Fetching files...\n",
      "==================\n",
      "File c18.png resized!\n",
      "File c19.png resized!\n",
      "File c09.png resized!\n",
      "File c21.png resized!\n",
      "File c20.png resized!\n",
      "File c08.png resized!\n",
      "File c12.png resized!\n",
      "File c06.png resized!\n",
      "File c07.png resized!\n",
      "File c13.png resized!\n",
      "File c05.png resized!\n",
      "File c11.png resized!\n",
      "File c10.png resized!\n",
      "File c04.png resized!\n",
      "File c00.png resized!\n",
      "File c14.png resized!\n",
      "File c15.png resized!\n",
      "File c01.png resized!\n",
      "File c17.png resized!\n",
      "File c03.png resized!\n",
      "File c02.png resized!\n",
      "File c16.png resized!\n",
      "==================\n",
      "Resizing complete.\n",
      "Number of photos resized: 23\n"
     ]
    }
   ],
   "source": [
    "format_cards(card_path)"
   ]
  },
  {
   "cell_type": "code",
   "execution_count": null,
   "metadata": {},
   "outputs": [],
   "source": []
  },
  {
   "cell_type": "code",
   "execution_count": null,
   "metadata": {},
   "outputs": [],
   "source": []
  }
 ],
 "metadata": {
  "kernelspec": {
   "display_name": "Python [conda env:metis] *",
   "language": "python",
   "name": "conda-env-metis-py"
  },
  "language_info": {
   "codemirror_mode": {
    "name": "ipython",
    "version": 3
   },
   "file_extension": ".py",
   "mimetype": "text/x-python",
   "name": "python",
   "nbconvert_exporter": "python",
   "pygments_lexer": "ipython3",
   "version": "3.8.5"
  },
  "toc": {
   "base_numbering": 1,
   "nav_menu": {},
   "number_sections": true,
   "sideBar": true,
   "skip_h1_title": false,
   "title_cell": "Table of Contents",
   "title_sidebar": "Contents",
   "toc_cell": false,
   "toc_position": {},
   "toc_section_display": true,
   "toc_window_display": false
  },
  "varInspector": {
   "cols": {
    "lenName": 16,
    "lenType": 16,
    "lenVar": 40
   },
   "kernels_config": {
    "python": {
     "delete_cmd_postfix": "",
     "delete_cmd_prefix": "del ",
     "library": "var_list.py",
     "varRefreshCmd": "print(var_dic_list())"
    },
    "r": {
     "delete_cmd_postfix": ") ",
     "delete_cmd_prefix": "rm(",
     "library": "var_list.r",
     "varRefreshCmd": "cat(var_dic_list()) "
    }
   },
   "types_to_exclude": [
    "module",
    "function",
    "builtin_function_or_method",
    "instance",
    "_Feature"
   ],
   "window_display": false
  }
 },
 "nbformat": 4,
 "nbformat_minor": 4
}
