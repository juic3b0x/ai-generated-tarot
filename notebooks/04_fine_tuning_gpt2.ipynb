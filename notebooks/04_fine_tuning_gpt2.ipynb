{
 "cells": [
  {
   "cell_type": "markdown",
   "metadata": {
    "id": "86dLs-YTEhtq"
   },
   "source": [
    "# Fine tuning GPT-2 to generate tarot card meanings and interpretations\n",
    "\n",
    "After scraping texts from a number of sources, it's time to use them to re-train GPT-2 to generate new tarot card meanings, interpreations, and questions to ponder. \n",
    "\n",
    "[This article](https://medium.com/swlh/fine-tuning-gpt-2-for-magic-the-gathering-flavour-text-generation-3bafd0f9bb93) by Richard Bownes, PhD has an amazing tutorial for fine tuning the [Hugging Face](https://huggingface.co/) GPT-2 model, and I've followed it here in this notebook to train and generate texts for this project.\n",
    "\n",
    "\n",
    "### Sources & References\n",
    "* [Fine tuning GPT-2 for Magic the Gathering Flavour text generation](https://medium.com/swlh/fine-tuning-gpt-2-for-magic-the-gathering-flavour-text-generation-3bafd0f9bb93)\n",
    "* [Fine tuning GPT-2... notebook](https://colab.research.google.com/drive/16UTbQOhspQOF3XlxDFyI28S-0nAkTzk_?authuser=1#scrollTo=U_XJVIetKN-h)\n",
    "* [HuggingFace](https://huggingface.co/)"
   ]
  },
  {
   "cell_type": "code",
   "execution_count": null,
   "metadata": {
    "id": "bVzFb4Y2YsP7"
   },
   "outputs": [],
   "source": [
    "# Install Hugging Face transformers \n",
    "\n",
    "%%capture\n",
    "!pip install transformers"
   ]
  },
  {
   "cell_type": "code",
   "execution_count": null,
   "metadata": {
    "id": "9t9gESeqteGE"
   },
   "outputs": [],
   "source": [
    "import pandas as pd"
   ]
  },
  {
   "cell_type": "code",
   "execution_count": null,
   "metadata": {
    "colab": {
     "base_uri": "https://localhost:8080/"
    },
    "id": "WBUzqMhpY9VA",
    "outputId": "c47cf74a-66b7-4788-dd8f-8f176b062047"
   },
   "outputs": [
    {
     "name": "stdout",
     "output_type": "stream",
     "text": [
      "Wed Nov 25 23:24:28 2020       \n",
      "+-----------------------------------------------------------------------------+\n",
      "| NVIDIA-SMI 455.38       Driver Version: 418.67       CUDA Version: 10.1     |\n",
      "|-------------------------------+----------------------+----------------------+\n",
      "| GPU  Name        Persistence-M| Bus-Id        Disp.A | Volatile Uncorr. ECC |\n",
      "| Fan  Temp  Perf  Pwr:Usage/Cap|         Memory-Usage | GPU-Util  Compute M. |\n",
      "|                               |                      |               MIG M. |\n",
      "|===============================+======================+======================|\n",
      "|   0  Tesla V100-SXM2...  Off  | 00000000:00:04.0 Off |                    0 |\n",
      "| N/A   34C    P0    50W / 300W |      0MiB / 16130MiB |      0%      Default |\n",
      "|                               |                      |                 ERR! |\n",
      "+-------------------------------+----------------------+----------------------+\n",
      "                                                                               \n",
      "+-----------------------------------------------------------------------------+\n",
      "| Processes:                                                                  |\n",
      "|  GPU   GI   CI        PID   Type   Process name                  GPU Memory |\n",
      "|        ID   ID                                                   Usage      |\n",
      "|=============================================================================|\n",
      "|  No running processes found                                                 |\n",
      "+-----------------------------------------------------------------------------+\n"
     ]
    }
   ],
   "source": [
    "# GPU Check\n",
    "!nvidia-smi"
   ]
  },
  {
   "cell_type": "markdown",
   "metadata": {
    "id": "7U0MFZ5gUNPw"
   },
   "source": [
    "## Dataset import"
   ]
  },
  {
   "cell_type": "code",
   "execution_count": null,
   "metadata": {
    "colab": {
     "base_uri": "https://localhost:8080/"
    },
    "id": "z8lYmTXjY9Q1",
    "outputId": "8a574502-aa0e-41b1-9f71-db520ca3f1db"
   },
   "outputs": [
    {
     "name": "stdout",
     "output_type": "stream",
     "text": [
      "Drive already mounted at /content/drive; to attempt to forcibly remount, call drive.mount(\"/content/drive\", force_remount=True).\n"
     ]
    }
   ],
   "source": [
    "from google.colab import drive\n",
    "drive.mount('/content/drive')"
   ]
  },
  {
   "cell_type": "code",
   "execution_count": null,
   "metadata": {
    "id": "yx0yOlX2Y9Mc"
   },
   "outputs": [],
   "source": [
    "fortunes_file = '/content/drive/MyDrive/gpt2/fortunes.txt'\n",
    "\n",
    "with open(fortunes_file) as f:\n",
    "    fortunes = f.read().split('\\n')"
   ]
  },
  {
   "cell_type": "code",
   "execution_count": null,
   "metadata": {
    "colab": {
     "base_uri": "https://localhost:8080/"
    },
    "id": "JrmP71hyY9Z7",
    "outputId": "f6f166ad-4035-4808-9db6-35de9919c1bf"
   },
   "outputs": [
    {
     "data": {
      "text/plain": [
       "['You don’t usually let your passions get the better of you but they will do so today. You won’t care in the slightest what other people think about what you do or say. That is, you won’t care today – tomorrow, however, you may be embarrassed!',\n",
       " 'You are in the mood to shock. You want to see the look of amazement on other people’s faces when you say or do things they don’t approve of. Don’t go too far though or even your friends may start to avoid you. ',\n",
       " 'You find beauty in ordinary things. Do not loose this ability.',\n",
       " 'For quite some time someone you have dealings with has been trying to tell you that you mean more to them than just a friend or colleague. The question is, of course, what do they mean to you? Maybe it’s time to let them know. ',\n",
       " 'The more you say the less others will listen, so give your tongue a rest and use your eyes and ears to find out what is going on. Something you see or hear over the next 24 hours will give you something worth talking about later on.']"
      ]
     },
     "execution_count": 5,
     "metadata": {
      "tags": []
     },
     "output_type": "execute_result"
    }
   ],
   "source": [
    "fortunes[:5]"
   ]
  },
  {
   "cell_type": "code",
   "execution_count": null,
   "metadata": {
    "colab": {
     "base_uri": "https://localhost:8080/"
    },
    "id": "u5Mv-camEn72",
    "outputId": "230c82df-a661-47d7-efd2-8acaa1651527"
   },
   "outputs": [
    {
     "data": {
      "text/plain": [
       "16810"
      ]
     },
     "execution_count": 6,
     "metadata": {
      "tags": []
     },
     "output_type": "execute_result"
    }
   ],
   "source": [
    "len(fortunes)"
   ]
  },
  {
   "cell_type": "markdown",
   "metadata": {
    "id": "-ptbm-nwUTz0"
   },
   "source": [
    "### Reformatting dataset into sentence chunks\n",
    "\n",
    "The documents of this corpus vary by length, and so I'll use SpaCy's sentencizer to break everything down into sentence chunks for processing with GPT-2 -- I think this should help with batch sizing and consistency of output.\n"
   ]
  },
  {
   "cell_type": "code",
   "execution_count": null,
   "metadata": {
    "id": "qcBkRJ3asH2k"
   },
   "outputs": [],
   "source": [
    "from spacy.lang.en import English\n",
    "\n",
    "nlp = English()\n",
    "nlp.add_pipe(nlp.create_pipe('sentencizer'))"
   ]
  },
  {
   "cell_type": "code",
   "execution_count": null,
   "metadata": {
    "colab": {
     "base_uri": "https://localhost:8080/"
    },
    "id": "GXj1wLNMsINZ",
    "outputId": "4c71cc53-ae86-45d0-aba3-00093314e5ab"
   },
   "outputs": [
    {
     "name": "stdout",
     "output_type": "stream",
     "text": [
      "Chunk size: 1681\n"
     ]
    }
   ],
   "source": [
    "chunks = len(fortunes)//10\n",
    "print(f'Chunk size: {chunks}')\n",
    "\n",
    "f1 = fortunes[:chunks]\n",
    "f2 = fortunes[chunks:chunks*2]\n",
    "f3 = fortunes[chunks*2:chunks*3]\n",
    "f4 = fortunes[chunks*3:chunks*4]\n",
    "f5 = fortunes[chunks*4:chunks*5]\n",
    "f6 = fortunes[chunks*5:chunks*6]\n",
    "f7 = fortunes[chunks*6:chunks*7]\n",
    "f8 = fortunes[chunks*7:chunks*8]\n",
    "f9 = fortunes[chunks*8:chunks*9]\n",
    "f10 = fortunes[chunks*9:]"
   ]
  },
  {
   "cell_type": "code",
   "execution_count": null,
   "metadata": {
    "colab": {
     "base_uri": "https://localhost:8080/"
    },
    "id": "SdwywBAUsJBt",
    "outputId": "fd9d9491-dc0d-452c-c80c-7ef90025a014"
   },
   "outputs": [
    {
     "name": "stdout",
     "output_type": "stream",
     "text": [
      "Doc length: 352705\n",
      "Doc length: 349488\n",
      "Doc length: 350324\n",
      "Doc length: 354850\n",
      "Doc length: 352432\n",
      "Doc length: 352201\n",
      "Doc length: 347855\n",
      "Doc length: 352206\n",
      "Doc length: 349688\n",
      "Doc length: 549588\n"
     ]
    }
   ],
   "source": [
    "f_list = [f1, f2, f3, f4, f5, f6, f7, f8, f9, f10]\n",
    "f_list = [' '.join(f) for f in f_list]\n",
    "\n",
    "for f in f_list:\n",
    "  print(f'Doc length: {len(f)}')"
   ]
  },
  {
   "cell_type": "code",
   "execution_count": null,
   "metadata": {
    "id": "6qHb0AYKZ5vC"
   },
   "outputs": [],
   "source": [
    "sentences = []\n",
    "\n",
    "for f in f_list:\n",
    "  s_words = []\n",
    "  doc = nlp(f)\n",
    "  s = [sent.string.strip() for sent in doc.sents]\n",
    "  sentences.append(s)"
   ]
  },
  {
   "cell_type": "code",
   "execution_count": null,
   "metadata": {
    "id": "dYqUxxTHZ51Q"
   },
   "outputs": [],
   "source": [
    "sentences = [s for sublist in sentences for s in sublist]"
   ]
  },
  {
   "cell_type": "code",
   "execution_count": null,
   "metadata": {
    "colab": {
     "base_uri": "https://localhost:8080/",
     "height": 35
    },
    "id": "VveaewdAZ6Bi",
    "outputId": "bdb2c2c2-9629-439f-c999-df08cb39d691"
   },
   "outputs": [
    {
     "data": {
      "application/vnd.google.colaboratory.intrinsic+json": {
       "type": "string"
      },
      "text/plain": [
       "'You don’t usually let your passions get the better of you but they will do so today.'"
      ]
     },
     "execution_count": 12,
     "metadata": {
      "tags": []
     },
     "output_type": "execute_result"
    }
   ],
   "source": [
    "sentences[0]"
   ]
  },
  {
   "cell_type": "code",
   "execution_count": null,
   "metadata": {
    "colab": {
     "base_uri": "https://localhost:8080/"
    },
    "id": "6cxJWaOWZ6Jo",
    "outputId": "ba2ac5f2-7442-4667-9fc6-b88bb46bdc2e"
   },
   "outputs": [
    {
     "data": {
      "text/plain": [
       "38559"
      ]
     },
     "execution_count": 13,
     "metadata": {
      "tags": []
     },
     "output_type": "execute_result"
    }
   ],
   "source": [
    "len(sentences)"
   ]
  },
  {
   "cell_type": "markdown",
   "metadata": {
    "id": "atewasDjUkAX"
   },
   "source": [
    "## GPT-2 Setup\n",
    "\n",
    "\n",
    "\n",
    "### Tokenizer"
   ]
  },
  {
   "cell_type": "code",
   "execution_count": null,
   "metadata": {
    "colab": {
     "base_uri": "https://localhost:8080/"
    },
    "id": "WmH7wDkYY8vC",
    "outputId": "e63cffc2-af7e-4411-ffc5-61271d0e0a15"
   },
   "outputs": [
    {
     "name": "stderr",
     "output_type": "stream",
     "text": [
      "Special tokens have been added in the vocabulary, make sure the associated word embedding are fine-tuned or trained.\n"
     ]
    },
    {
     "data": {
      "text/plain": [
       "[36674, 8255]"
      ]
     },
     "execution_count": 14,
     "metadata": {
      "tags": []
     },
     "output_type": "execute_result"
    }
   ],
   "source": [
    "from transformers import GPT2Tokenizer\n",
    "\n",
    "tokenizer = GPT2Tokenizer.from_pretrained('gpt2', \n",
    "                                          bos_token = '<|startoftext|>',\n",
    "                                          eos_token = '<|endoftext|>',\n",
    "                                          pad_token = '<|pad|>'\n",
    "                                          )\n",
    "\n",
    "tokenizer.encode(\"Sample Text\")"
   ]
  },
  {
   "cell_type": "code",
   "execution_count": null,
   "metadata": {
    "id": "ji7jWNDMa8Fx"
   },
   "outputs": [],
   "source": [
    "fortunes = sentences.copy()\n",
    "del sentences "
   ]
  },
  {
   "cell_type": "code",
   "execution_count": null,
   "metadata": {
    "colab": {
     "base_uri": "https://localhost:8080/"
    },
    "id": "MZMwiL1dY8rl",
    "outputId": "30f9b81a-562a-461a-b65f-54886ccca17c"
   },
   "outputs": [
    {
     "name": "stdout",
     "output_type": "stream",
     "text": [
      "The longest text is 269 tokens long.\n"
     ]
    }
   ],
   "source": [
    "max_fortune = max([len(tokenizer.encode(fortune)) for fortune in fortunes])\n",
    "\n",
    "print(f'The longest text is {max_fortune} tokens long.')"
   ]
  },
  {
   "cell_type": "markdown",
   "metadata": {
    "id": "2qC-o2sQUv6c"
   },
   "source": [
    "### Setting up PyTorch Dataset & Dataloaders "
   ]
  },
  {
   "cell_type": "code",
   "execution_count": null,
   "metadata": {
    "id": "jqsfUk4XY8lE"
   },
   "outputs": [],
   "source": [
    "import torch\n",
    "torch.manual_seed(42)\n",
    "from torch.utils.data import Dataset # this is the pytorch class import\n",
    "\n",
    "class TarotDataset(Dataset):\n",
    "\n",
    "  def __init__(self, txt_list, tokenizer, gpt2_type=\"gpt2\", max_length=max_fortune):\n",
    "\n",
    "    self.tokenizer = tokenizer # the gpt2 tokenizer we instantiated\n",
    "    self.input_ids = []\n",
    "    self.attn_masks = []\n",
    "\n",
    "    for txt in txt_list:\n",
    "      \"\"\"\n",
    "      This loop will iterate through each entry in the flavour text corpus.\n",
    "      For each bit of text it will prepend it with the start of text token,\n",
    "      then append the end of text token and pad to the maximum length with the \n",
    "      pad token. \n",
    "      \"\"\"\n",
    "\n",
    "      encodings_dict = tokenizer('<|startoftext|>'+ txt + '<|endoftext|>', \n",
    "                                 truncation=True, \n",
    "                                 max_length=max_length, \n",
    "                                 padding=\"max_length\"\n",
    "                                 )\n",
    "      \n",
    "      \"\"\"\n",
    "      Each iteration then appends either the encoded tensor to a list,\n",
    "      or the attention mask for that encoding to a list. The attention mask is\n",
    "      a binary list of 1's or 0's which determine whether the langauge model\n",
    "      should take that token into consideration or not. \n",
    "      \"\"\"\n",
    "\n",
    "      self.input_ids.append(torch.tensor(encodings_dict['input_ids']))\n",
    "      self.attn_masks.append(torch.tensor(encodings_dict['attention_mask']))\n",
    "    \n",
    "  def __len__(self):\n",
    "    return len(self.input_ids)\n",
    "\n",
    "  def __getitem__(self, idx):\n",
    "    return self.input_ids[idx], self.attn_masks[idx] "
   ]
  },
  {
   "cell_type": "code",
   "execution_count": null,
   "metadata": {
    "colab": {
     "base_uri": "https://localhost:8080/",
     "height": 35
    },
    "id": "73YB7ic-Y8iD",
    "outputId": "969e02d7-9a12-4249-8c66-cb146fd2e7de"
   },
   "outputs": [
    {
     "data": {
      "application/vnd.google.colaboratory.intrinsic+json": {
       "type": "string"
      },
      "text/plain": [
       "'There are 34703 samples for training, and 3856 samples for validation testing'"
      ]
     },
     "execution_count": 18,
     "metadata": {
      "tags": []
     },
     "output_type": "execute_result"
    }
   ],
   "source": [
    "from torch.utils.data import random_split\n",
    "\n",
    "dataset = TarotDataset(fortunes, tokenizer, max_length=max_fortune)\n",
    "\n",
    "# Split into training and validation sets\n",
    "train_size = int(0.9 * len(dataset))\n",
    "val_size = len(dataset) - train_size\n",
    "\n",
    "train_dataset, val_dataset = random_split(dataset, [train_size, val_size])\n",
    "\n",
    "f'There are {train_size} samples for training, and {val_size} samples for validation testing'"
   ]
  },
  {
   "cell_type": "markdown",
   "metadata": {
    "id": "6e8RUl32fEq7"
   },
   "source": [
    "Setting up batch size and maximume token length for output text."
   ]
  },
  {
   "cell_type": "code",
   "execution_count": null,
   "metadata": {
    "id": "1T9wGfLpY8oL"
   },
   "outputs": [],
   "source": [
    "#bs = 20 # most recent round --> this worked pretty well\n",
    "bs = 18\n",
    "max_fortune = 100"
   ]
  },
  {
   "cell_type": "code",
   "execution_count": null,
   "metadata": {
    "id": "Dq31O1m4d5mU"
   },
   "outputs": [],
   "source": [
    "from torch.utils.data import DataLoader, RandomSampler, SequentialSampler\n",
    "\n",
    "train_dataloader = DataLoader(\n",
    "    train_dataset,\n",
    "    sampler = RandomSampler(train_dataset), \n",
    "    batch_size = bs\n",
    "    )\n",
    "\n",
    "validation_dataloader = DataLoader(\n",
    "    val_dataset,\n",
    "    sampler = SequentialSampler(val_dataset),\n",
    "    batch_size = bs\n",
    "    )"
   ]
  },
  {
   "cell_type": "markdown",
   "metadata": {
    "id": "arMY_21UVCnF"
   },
   "source": [
    "### Setting GPT-2 model parameters"
   ]
  },
  {
   "cell_type": "code",
   "execution_count": null,
   "metadata": {
    "id": "Kn35c0iKd6F3"
   },
   "outputs": [],
   "source": [
    "import random\n",
    "from transformers import GPT2LMHeadModel, GPT2Config\n",
    "import numpy as np\n",
    "\n",
    "# Loading the model configuration and setting it to the GPT2 standard settings.\n",
    "configuration = GPT2Config.from_pretrained('gpt2', output_hidden_states=False)\n",
    "\n",
    "# Create the instance of the model and set the token size embedding length\n",
    "model = GPT2LMHeadModel.from_pretrained(\"gpt2\", config=configuration)\n",
    "model.resize_token_embeddings(len(tokenizer))\n",
    "\n",
    "# Tell pytorch to run this model on the GPU.\n",
    "device = torch.device(\"cuda\")\n",
    "model.cuda()\n",
    "\n",
    "# Optional step to enable reproducible runs.\n",
    "seed_val = 42\n",
    "\n",
    "random.seed(seed_val)\n",
    "np.random.seed(seed_val)\n",
    "torch.manual_seed(seed_val)\n",
    "torch.cuda.manual_seed_all(seed_val)"
   ]
  },
  {
   "cell_type": "code",
   "execution_count": null,
   "metadata": {
    "id": "zX72c2hld6ds"
   },
   "outputs": [],
   "source": [
    "# We wil create a few variables to define the training parameters of the model\n",
    "# epochs are the training rounds\n",
    "# the warmup steps are steps at the start of training that are ignored\n",
    "# every x steps we will sample the model to test the output\n",
    "\n",
    "epochs = 4\n",
    "warmup_steps = 1e2\n",
    "sample_every = 100"
   ]
  },
  {
   "cell_type": "code",
   "execution_count": null,
   "metadata": {
    "id": "vik0OU-Xd617"
   },
   "outputs": [],
   "source": [
    "from transformers import AdamW\n",
    "\n",
    "optimizer = AdamW(model.parameters(), \n",
    "                  lr = 2e-4,          # Learning rate (reduced from 5e-4)\n",
    "                  eps = 1e-8\n",
    "                  )"
   ]
  },
  {
   "cell_type": "code",
   "execution_count": null,
   "metadata": {
    "id": "KGN31KjTd6rm"
   },
   "outputs": [],
   "source": [
    "from transformers import get_linear_schedule_with_warmup\n",
    "\n",
    "total_steps = len(train_dataloader) * epochs\n",
    "\n",
    "scheduler = get_linear_schedule_with_warmup(optimizer, \n",
    "                                            num_warmup_steps = warmup_steps,\n",
    "                                            num_training_steps = total_steps\n",
    "                                            )"
   ]
  },
  {
   "cell_type": "markdown",
   "metadata": {
    "id": "Ty0j9it_Wk8Q"
   },
   "source": [
    "### Setting up the training loop!"
   ]
  },
  {
   "cell_type": "code",
   "execution_count": null,
   "metadata": {
    "colab": {
     "base_uri": "https://localhost:8080/"
    },
    "id": "7bSBiQ3ed6TY",
    "outputId": "10377086-2e86-4eb1-e9bd-ef4669cc5c6e"
   },
   "outputs": [
    {
     "name": "stdout",
     "output_type": "stream",
     "text": [
      "Beginning epoch 1 of 4...\n",
      "--------------------------------------------------------------------\n",
      "\n"
     ]
    },
    {
     "name": "stderr",
     "output_type": "stream",
     "text": [
      "Setting `pad_token_id` to `eos_token_id`:50256 for open-end generation.\n"
     ]
    },
    {
     "name": "stdout",
     "output_type": "stream",
     "text": [
      "Batch 100 of 2169. Loss:0.2714158594608307. Time:0:00:39\n",
      "\tExample output:  bipartisanA good deal of work is done here.\n"
     ]
    },
    {
     "name": "stderr",
     "output_type": "stream",
     "text": [
      "Setting `pad_token_id` to `eos_token_id`:50256 for open-end generation.\n"
     ]
    },
    {
     "name": "stdout",
     "output_type": "stream",
     "text": [
      "Batch 200 of 2169. Loss:0.24938304722309113. Time:0:01:18\n",
      "\tExample output:  increasingThe fact is, if you put words in your mouth, it will turn you upside down and turn you into someone more likely to be upset or disappointed.\n"
     ]
    },
    {
     "name": "stderr",
     "output_type": "stream",
     "text": [
      "Setting `pad_token_id` to `eos_token_id`:50256 for open-end generation.\n"
     ]
    },
    {
     "name": "stdout",
     "output_type": "stream",
     "text": [
      "Batch 300 of 2169. Loss:0.22656399011611938. Time:0:01:57\n",
      "\tExample output: dayThe Sun and Mercury warn that all things will be possible once you get the confidence back in your heart you can start making changes in it.\n"
     ]
    },
    {
     "name": "stderr",
     "output_type": "stream",
     "text": [
      "Setting `pad_token_id` to `eos_token_id`:50256 for open-end generation.\n"
     ]
    },
    {
     "name": "stdout",
     "output_type": "stream",
     "text": [
      "Batch 400 of 2169. Loss:0.239750474691391. Time:0:02:36\n",
      "\tExample output:  HangThe planet is moving forward.\n"
     ]
    },
    {
     "name": "stderr",
     "output_type": "stream",
     "text": [
      "Setting `pad_token_id` to `eos_token_id`:50256 for open-end generation.\n"
     ]
    },
    {
     "name": "stdout",
     "output_type": "stream",
     "text": [
      "Batch 500 of 2169. Loss:0.1974717676639557. Time:0:03:15\n",
      "\tExample output:  foodsThe earth is one hundred percent flat, and one of the most interesting things which is all about life in an eternal scheme is that the planets are everywhere concerned as well as your friends.\n"
     ]
    },
    {
     "name": "stderr",
     "output_type": "stream",
     "text": [
      "Setting `pad_token_id` to `eos_token_id`:50256 for open-end generation.\n"
     ]
    },
    {
     "name": "stdout",
     "output_type": "stream",
     "text": [
      "Batch 600 of 2169. Loss:0.2420227825641632. Time:0:03:54\n",
      "\tExample output:  trailBy all means get.\n"
     ]
    },
    {
     "name": "stderr",
     "output_type": "stream",
     "text": [
      "Setting `pad_token_id` to `eos_token_id`:50256 for open-end generation.\n"
     ]
    },
    {
     "name": "stdout",
     "output_type": "stream",
     "text": [
      "Batch 700 of 2169. Loss:0.21219101548194885. Time:0:04:33\n",
      "\tExample output: intendThe planets indicate your priorities will be balanced over the next 24 hours – that is, until Jupiter moves out of your sign of Cancer, just before you lose your balance.\n"
     ]
    },
    {
     "name": "stderr",
     "output_type": "stream",
     "text": [
      "Setting `pad_token_id` to `eos_token_id`:50256 for open-end generation.\n"
     ]
    },
    {
     "name": "stdout",
     "output_type": "stream",
     "text": [
      "Batch 800 of 2169. Loss:0.24048376083374023. Time:0:05:13\n",
      "\tExample output:  surroundToday’s Sun-Jupiter link will boost your confidence but your dreams will be a bit more challenging than usual.\n"
     ]
    },
    {
     "name": "stderr",
     "output_type": "stream",
     "text": [
      "Setting `pad_token_id` to `eos_token_id`:50256 for open-end generation.\n"
     ]
    },
    {
     "name": "stdout",
     "output_type": "stream",
     "text": [
      "Batch 900 of 2169. Loss:0.18715070188045502. Time:0:05:52\n",
      "\tExample output:  reflexA project for which no doubt someone on a team will be delighted is over.\n"
     ]
    },
    {
     "name": "stderr",
     "output_type": "stream",
     "text": [
      "Setting `pad_token_id` to `eos_token_id`:50256 for open-end generation.\n"
     ]
    },
    {
     "name": "stdout",
     "output_type": "stream",
     "text": [
      "Batch 1000 of 2169. Loss:0.2143394947052002. Time:0:06:31\n",
      "\tExample output:  displayIf you are being dishonest you may think you are being dishonest but you are a fool.\n"
     ]
    },
    {
     "name": "stderr",
     "output_type": "stream",
     "text": [
      "Setting `pad_token_id` to `eos_token_id`:50256 for open-end generation.\n"
     ]
    },
    {
     "name": "stdout",
     "output_type": "stream",
     "text": [
      "Batch 1100 of 2169. Loss:0.21988944709300995. Time:0:07:10\n",
      "\tExample output:  pastorIf you can find yourself in a position where you are unable to help, then do something about it.\n"
     ]
    },
    {
     "name": "stderr",
     "output_type": "stream",
     "text": [
      "Setting `pad_token_id` to `eos_token_id`:50256 for open-end generation.\n"
     ]
    },
    {
     "name": "stdout",
     "output_type": "stream",
     "text": [
      "Batch 1200 of 2169. Loss:0.2707863748073578. Time:0:07:49\n",
      "\tExample output:  illicitYou need to be careful with money.\n"
     ]
    },
    {
     "name": "stderr",
     "output_type": "stream",
     "text": [
      "Setting `pad_token_id` to `eos_token_id`:50256 for open-end generation.\n"
     ]
    },
    {
     "name": "stdout",
     "output_type": "stream",
     "text": [
      "Batch 1300 of 2169. Loss:0.23551765084266663. Time:0:08:28\n",
      "\tExample output:  LiberationThe more you push the harder it gets to get rid of the old.\n"
     ]
    },
    {
     "name": "stderr",
     "output_type": "stream",
     "text": [
      "Setting `pad_token_id` to `eos_token_id`:50256 for open-end generation.\n"
     ]
    },
    {
     "name": "stdout",
     "output_type": "stream",
     "text": [
      "Batch 1400 of 2169. Loss:0.20390449464321136. Time:0:09:07\n",
      "\tExample output:  NamWe don’t know how to stop him from doing what he has to do.\n"
     ]
    },
    {
     "name": "stderr",
     "output_type": "stream",
     "text": [
      "Setting `pad_token_id` to `eos_token_id`:50256 for open-end generation.\n"
     ]
    },
    {
     "name": "stdout",
     "output_type": "stream",
     "text": [
      "Batch 1500 of 2169. Loss:0.2159050703048706. Time:0:09:46\n",
      "\tExample output: IONIs a good time to discuss issues of a partnership nature and can you explain why the relationship is worth fighting for?\n"
     ]
    },
    {
     "name": "stderr",
     "output_type": "stream",
     "text": [
      "Setting `pad_token_id` to `eos_token_id`:50256 for open-end generation.\n"
     ]
    },
    {
     "name": "stdout",
     "output_type": "stream",
     "text": [
      "Batch 1600 of 2169. Loss:0.2419460415840149. Time:0:10:26\n",
      "\tExample output:  glimpseYou have taken liberties over the past few weeks that make you a bit suspicious of people who can speak to you.\n"
     ]
    },
    {
     "name": "stderr",
     "output_type": "stream",
     "text": [
      "Setting `pad_token_id` to `eos_token_id`:50256 for open-end generation.\n"
     ]
    },
    {
     "name": "stdout",
     "output_type": "stream",
     "text": [
      "Batch 1700 of 2169. Loss:0.20946982502937317. Time:0:11:05\n",
      "\tExample output:  LaureDon’t think you can reach your goals, because if you can do it you can do so too.\n"
     ]
    },
    {
     "name": "stderr",
     "output_type": "stream",
     "text": [
      "Setting `pad_token_id` to `eos_token_id`:50256 for open-end generation.\n"
     ]
    },
    {
     "name": "stdout",
     "output_type": "stream",
     "text": [
      "Batch 1800 of 2169. Loss:0.32523712515830994. Time:0:11:44\n",
      "\tExample output: ismYou should be doing better and maybe making up for it today.\n"
     ]
    },
    {
     "name": "stderr",
     "output_type": "stream",
     "text": [
      "Setting `pad_token_id` to `eos_token_id`:50256 for open-end generation.\n"
     ]
    },
    {
     "name": "stdout",
     "output_type": "stream",
     "text": [
      "Batch 1900 of 2169. Loss:0.22738991677761078. Time:0:12:23\n",
      "\tExample output: ounThe Sun’s move into the most adventurous area of your chart today will put you on the right path to success but for now you must keep a low profile – and stick with your plan.\n"
     ]
    },
    {
     "name": "stderr",
     "output_type": "stream",
     "text": [
      "Setting `pad_token_id` to `eos_token_id`:50256 for open-end generation.\n"
     ]
    },
    {
     "name": "stdout",
     "output_type": "stream",
     "text": [
      "Batch 2000 of 2169. Loss:0.21155232191085815. Time:0:13:03\n",
      "\tExample output:  electionThe way they see things may seem to you to be the wrong way round but that is exactly what you need to know.\n"
     ]
    },
    {
     "name": "stderr",
     "output_type": "stream",
     "text": [
      "Setting `pad_token_id` to `eos_token_id`:50256 for open-end generation.\n"
     ]
    },
    {
     "name": "stdout",
     "output_type": "stream",
     "text": [
      "Batch 2100 of 2169. Loss:0.2404232621192932. Time:0:13:42\n",
      "\tExample output:  crazyIf you do not follow the path of best policy you will find that it takes you more to get the best out of life than it does to get the best out of people.\n",
      "Average Training Loss: 0.3023587040098211. Epoch time: 0:14:09\n",
      "Validation loss: 0.2109279956560412. Validation Time: 0:00:29\n",
      "\n",
      "--------------------------------------------------------------------\n",
      "\n",
      "Beginning epoch 2 of 4...\n",
      "--------------------------------------------------------------------\n",
      "\n"
     ]
    },
    {
     "name": "stderr",
     "output_type": "stream",
     "text": [
      "Setting `pad_token_id` to `eos_token_id`:50256 for open-end generation.\n"
     ]
    },
    {
     "name": "stdout",
     "output_type": "stream",
     "text": [
      "Batch 100 of 2169. Loss:0.24570006132125854. Time:0:00:39\n",
      "\tExample output:  benchAs Mercury, your ruler, moves through the most dynamic area of your chart today you will find it very easy to express yourself creatively.\n"
     ]
    },
    {
     "name": "stderr",
     "output_type": "stream",
     "text": [
      "Setting `pad_token_id` to `eos_token_id`:50256 for open-end generation.\n"
     ]
    },
    {
     "name": "stdout",
     "output_type": "stream",
     "text": [
      "Batch 200 of 2169. Loss:0.20445720851421356. Time:0:01:18\n",
      "\tExample output:  incorporatedThe planets warn if you try to hide something from people in positions of power you might regret it later on when your life is done in good time.\n"
     ]
    },
    {
     "name": "stderr",
     "output_type": "stream",
     "text": [
      "Setting `pad_token_id` to `eos_token_id`:50256 for open-end generation.\n"
     ]
    },
    {
     "name": "stdout",
     "output_type": "stream",
     "text": [
      "Batch 300 of 2169. Loss:0.2319791615009308. Time:0:01:58\n",
      "\tExample output: PeterWhat is the danger, if you are allowed to be a bit touchy over the next 48 hours?\n"
     ]
    },
    {
     "name": "stderr",
     "output_type": "stream",
     "text": [
      "Setting `pad_token_id` to `eos_token_id`:50256 for open-end generation.\n"
     ]
    },
    {
     "name": "stdout",
     "output_type": "stream",
     "text": [
      "Batch 400 of 2169. Loss:0.27548354864120483. Time:0:02:37\n",
      "\tExample output: uringWhat is it about your body that makes you so special?\n"
     ]
    },
    {
     "name": "stderr",
     "output_type": "stream",
     "text": [
      "Setting `pad_token_id` to `eos_token_id`:50256 for open-end generation.\n"
     ]
    },
    {
     "name": "stdout",
     "output_type": "stream",
     "text": [
      "Batch 500 of 2169. Loss:0.2134721279144287. Time:0:03:16\n",
      "\tExample output:  reproductiveIf a family member you care for gives you financial assistance then by all means get in touch – there will be consequences.\n"
     ]
    },
    {
     "name": "stderr",
     "output_type": "stream",
     "text": [
      "Setting `pad_token_id` to `eos_token_id`:50256 for open-end generation.\n"
     ]
    },
    {
     "name": "stdout",
     "output_type": "stream",
     "text": [
      "Batch 600 of 2169. Loss:0.23141688108444214. Time:0:03:55\n",
      "\tExample output:  zoneWhat may have been a challenging day for you will now be a challenging day for the rest of the world.\n"
     ]
    },
    {
     "name": "stderr",
     "output_type": "stream",
     "text": [
      "Setting `pad_token_id` to `eos_token_id`:50256 for open-end generation.\n"
     ]
    },
    {
     "name": "stdout",
     "output_type": "stream",
     "text": [
      "Batch 700 of 2169. Loss:0.2068156599998474. Time:0:04:35\n",
      "\tExample output:  commitsIt may seem as if life is being run by magic and you have no control over it but that does not mean you have to worry about it – and you do.\n"
     ]
    },
    {
     "name": "stderr",
     "output_type": "stream",
     "text": [
      "Setting `pad_token_id` to `eos_token_id`:50256 for open-end generation.\n"
     ]
    },
    {
     "name": "stdout",
     "output_type": "stream",
     "text": [
      "Batch 800 of 2169. Loss:0.2005896270275116. Time:0:05:14\n",
      "\tExample output:  ironyThere may be times in which you seem impatient but the planets indicate it is time for a vacation.\n"
     ]
    },
    {
     "name": "stderr",
     "output_type": "stream",
     "text": [
      "Setting `pad_token_id` to `eos_token_id`:50256 for open-end generation.\n"
     ]
    },
    {
     "name": "stdout",
     "output_type": "stream",
     "text": [
      "Batch 900 of 2169. Loss:0.2244681864976883. Time:0:05:53\n",
      "\tExample output:  SahThere is no point trying to force others to see things your way – they will come to nothing.\n"
     ]
    },
    {
     "name": "stderr",
     "output_type": "stream",
     "text": [
      "Setting `pad_token_id` to `eos_token_id`:50256 for open-end generation.\n"
     ]
    },
    {
     "name": "stdout",
     "output_type": "stream",
     "text": [
      "Batch 1000 of 2169. Loss:0.1852504462003708. Time:0:06:32\n",
      "\tExample output:  BryanWhat happens today will determine how you manage your workload and help make a success of it.\n"
     ]
    },
    {
     "name": "stderr",
     "output_type": "stream",
     "text": [
      "Setting `pad_token_id` to `eos_token_id`:50256 for open-end generation.\n"
     ]
    },
    {
     "name": "stdout",
     "output_type": "stream",
     "text": [
      "Batch 1100 of 2169. Loss:0.21315240859985352. Time:0:07:11\n",
      "\tExample output:  spiritsWhat comes next is more important than what you can see so far.\n"
     ]
    },
    {
     "name": "stderr",
     "output_type": "stream",
     "text": [
      "Setting `pad_token_id` to `eos_token_id`:50256 for open-end generation.\n"
     ]
    },
    {
     "name": "stdout",
     "output_type": "stream",
     "text": [
      "Batch 1200 of 2169. Loss:0.1931728571653366. Time:0:07:51\n",
      "\tExample output:  seesThis card represents a man in the guise of a shipwrecks, whose passengers are sailing round in a circle, and carrying three or four passengers who are called upon to carry them round in the utmost, without passengers strength.\n"
     ]
    },
    {
     "name": "stderr",
     "output_type": "stream",
     "text": [
      "Setting `pad_token_id` to `eos_token_id`:50256 for open-end generation.\n"
     ]
    },
    {
     "name": "stdout",
     "output_type": "stream",
     "text": [
      "Batch 1300 of 2169. Loss:0.2506088316440582. Time:0:08:30\n",
      "\tExample output:  hungryWhat happens over the next few days will most likely convince you to give it another go.\n"
     ]
    },
    {
     "name": "stderr",
     "output_type": "stream",
     "text": [
      "Setting `pad_token_id` to `eos_token_id`:50256 for open-end generation.\n"
     ]
    },
    {
     "name": "stdout",
     "output_type": "stream",
     "text": [
      "Batch 1400 of 2169. Loss:0.2456158846616745. Time:0:09:09\n",
      "\tExample output:  PTYou are entitled to your opinions about something but, under no circumstances, do you do them retrograde, or do you go the other way and say they were wrong?\n"
     ]
    },
    {
     "name": "stderr",
     "output_type": "stream",
     "text": [
      "Setting `pad_token_id` to `eos_token_id`:50256 for open-end generation.\n"
     ]
    },
    {
     "name": "stdout",
     "output_type": "stream",
     "text": [
      "Batch 1500 of 2169. Loss:0.1937330961227417. Time:0:09:49\n",
      "\tExample output: üTake risks, work hard and enjoy the best quality of life.\n"
     ]
    },
    {
     "name": "stderr",
     "output_type": "stream",
     "text": [
      "Setting `pad_token_id` to `eos_token_id`:50256 for open-end generation.\n"
     ]
    },
    {
     "name": "stdout",
     "output_type": "stream",
     "text": [
      "Batch 1600 of 2169. Loss:0.1706102341413498. Time:0:10:28\n",
      "\tExample output: ruceIt isn’t nearly as bad as you thought it would be, so stop playing around and make your dream come true.\n"
     ]
    },
    {
     "name": "stderr",
     "output_type": "stream",
     "text": [
      "Setting `pad_token_id` to `eos_token_id`:50256 for open-end generation.\n"
     ]
    },
    {
     "name": "stdout",
     "output_type": "stream",
     "text": [
      "Batch 1700 of 2169. Loss:0.23884844779968262. Time:0:11:07\n",
      "\tExample output:  derivativesYou will get the chance to make some serious money over the next 48 hours.\n"
     ]
    },
    {
     "name": "stderr",
     "output_type": "stream",
     "text": [
      "Setting `pad_token_id` to `eos_token_id`:50256 for open-end generation.\n"
     ]
    },
    {
     "name": "stdout",
     "output_type": "stream",
     "text": [
      "Batch 1800 of 2169. Loss:0.17578400671482086. Time:0:11:46\n",
      "\tExample output: \u0019Your words may be harsh but the planets indicate you are being reasonable about yourself.\n"
     ]
    },
    {
     "name": "stderr",
     "output_type": "stream",
     "text": [
      "Setting `pad_token_id` to `eos_token_id`:50256 for open-end generation.\n"
     ]
    },
    {
     "name": "stdout",
     "output_type": "stream",
     "text": [
      "Batch 1900 of 2169. Loss:0.21252427995204926. Time:0:12:25\n",
      "\tExample output:  rememberingDon’t worry about money or business matters today.\n"
     ]
    },
    {
     "name": "stderr",
     "output_type": "stream",
     "text": [
      "Setting `pad_token_id` to `eos_token_id`:50256 for open-end generation.\n"
     ]
    },
    {
     "name": "stdout",
     "output_type": "stream",
     "text": [
      "Batch 2000 of 2169. Loss:0.18526537716388702. Time:0:13:04\n",
      "\tExample output:  SourcesNo matter how hard you try to get through to other people today you are advised to stick to your guns.\n"
     ]
    },
    {
     "name": "stderr",
     "output_type": "stream",
     "text": [
      "Setting `pad_token_id` to `eos_token_id`:50256 for open-end generation.\n"
     ]
    },
    {
     "name": "stdout",
     "output_type": "stream",
     "text": [
      "Batch 2100 of 2169. Loss:0.16108858585357666. Time:0:13:43\n",
      "\tExample output: emsFor some strange reason you are feeling restless at the moment and a great deal of your time and energy should be directed to other activities.\n",
      "Average Training Loss: 0.20085017875338437. Epoch time: 0:14:10\n",
      "Validation loss: 0.20263195139862195. Validation Time: 0:00:29\n",
      "\n",
      "--------------------------------------------------------------------\n",
      "\n",
      "Beginning epoch 3 of 4...\n",
      "--------------------------------------------------------------------\n",
      "\n"
     ]
    },
    {
     "name": "stderr",
     "output_type": "stream",
     "text": [
      "Setting `pad_token_id` to `eos_token_id`:50256 for open-end generation.\n"
     ]
    },
    {
     "name": "stdout",
     "output_type": "stream",
     "text": [
      "Batch 100 of 2169. Loss:0.26342442631721497. Time:0:00:39\n",
      "\tExample output: tzBut why?\n"
     ]
    },
    {
     "name": "stderr",
     "output_type": "stream",
     "text": [
      "Setting `pad_token_id` to `eos_token_id`:50256 for open-end generation.\n"
     ]
    },
    {
     "name": "stdout",
     "output_type": "stream",
     "text": [
      "Batch 200 of 2169. Loss:0.16736893355846405. Time:0:01:18\n",
      "\tExample output: maticWhatever your intentions you must refuse to make them known.\n"
     ]
    },
    {
     "name": "stderr",
     "output_type": "stream",
     "text": [
      "Setting `pad_token_id` to `eos_token_id`:50256 for open-end generation.\n"
     ]
    },
    {
     "name": "stdout",
     "output_type": "stream",
     "text": [
      "Batch 300 of 2169. Loss:0.1630270630121231. Time:0:01:57\n",
      "\tExample output:  syndDon’t go making deals because it will backfire on you.\n"
     ]
    },
    {
     "name": "stderr",
     "output_type": "stream",
     "text": [
      "Setting `pad_token_id` to `eos_token_id`:50256 for open-end generation.\n"
     ]
    },
    {
     "name": "stdout",
     "output_type": "stream",
     "text": [
      "Batch 400 of 2169. Loss:0.1535690277814865. Time:0:02:36\n",
      "\tExample output:  gamWhat is more, it furthers one person’s career to suffer when they make enemies.\n"
     ]
    },
    {
     "name": "stderr",
     "output_type": "stream",
     "text": [
      "Setting `pad_token_id` to `eos_token_id`:50256 for open-end generation.\n"
     ]
    },
    {
     "name": "stdout",
     "output_type": "stream",
     "text": [
      "Batch 500 of 2169. Loss:0.23649007081985474. Time:0:03:15\n",
      "\tExample output:  injuryThere will be plenty of bad news this week, both on the home front and at work, so make sure you know what is going to happen.\n"
     ]
    },
    {
     "name": "stderr",
     "output_type": "stream",
     "text": [
      "Setting `pad_token_id` to `eos_token_id`:50256 for open-end generation.\n"
     ]
    },
    {
     "name": "stdout",
     "output_type": "stream",
     "text": [
      "Batch 600 of 2169. Loss:0.20033922791481018. Time:0:03:54\n",
      "\tExample output: azaJust be careful you don’t lose something that makes you smile.\n"
     ]
    },
    {
     "name": "stderr",
     "output_type": "stream",
     "text": [
      "Setting `pad_token_id` to `eos_token_id`:50256 for open-end generation.\n"
     ]
    },
    {
     "name": "stdout",
     "output_type": "stream",
     "text": [
      "Batch 700 of 2169. Loss:0.1655333936214447. Time:0:04:33\n",
      "\tExample output:  membraneThere is a danger that it could be too cynical to get ahead, and it won’t be for you at least.\n"
     ]
    },
    {
     "name": "stderr",
     "output_type": "stream",
     "text": [
      "Setting `pad_token_id` to `eos_token_id`:50256 for open-end generation.\n"
     ]
    },
    {
     "name": "stdout",
     "output_type": "stream",
     "text": [
      "Batch 800 of 2169. Loss:0.18830238282680511. Time:0:05:13\n",
      "\tExample output: ijingThe Sun’s change of signs today will in some way or other bring your confidence back and you will soon be back where you were before.\n"
     ]
    },
    {
     "name": "stderr",
     "output_type": "stream",
     "text": [
      "Setting `pad_token_id` to `eos_token_id`:50256 for open-end generation.\n"
     ]
    },
    {
     "name": "stdout",
     "output_type": "stream",
     "text": [
      "Batch 900 of 2169. Loss:0.16578903794288635. Time:0:05:52\n",
      "\tExample output:  castWhat happens over the next few days will convince you that there is no point trying to do anything drastic, that it is your responsibility to be positive and that you need to stay on good terms with everyone.\n"
     ]
    },
    {
     "name": "stderr",
     "output_type": "stream",
     "text": [
      "Setting `pad_token_id` to `eos_token_id`:50256 for open-end generation.\n"
     ]
    },
    {
     "name": "stdout",
     "output_type": "stream",
     "text": [
      "Batch 1000 of 2169. Loss:0.1615721583366394. Time:0:06:31\n",
      "\tExample output:  purchMake sure those who need help are aware that their financial situation is far from improving.\n"
     ]
    },
    {
     "name": "stderr",
     "output_type": "stream",
     "text": [
      "Setting `pad_token_id` to `eos_token_id`:50256 for open-end generation.\n"
     ]
    },
    {
     "name": "stdout",
     "output_type": "stream",
     "text": [
      "Batch 1100 of 2169. Loss:0.15356981754302979. Time:0:07:10\n",
      "\tExample output:  shouldersIt is a cardinal sign that if you act on what you hear over the next 24 hours you will get what you want from the people you meet over the next 24 hours.\n"
     ]
    },
    {
     "name": "stderr",
     "output_type": "stream",
     "text": [
      "Setting `pad_token_id` to `eos_token_id`:50256 for open-end generation.\n"
     ]
    },
    {
     "name": "stdout",
     "output_type": "stream",
     "text": [
      "Batch 1200 of 2169. Loss:0.184514120221138. Time:0:07:50\n",
      "\tExample output:  builtYou will get every opportunity to show the world how far you have come and how much you intend to push yourself beyond your natural limits over the next two or three days.\n"
     ]
    },
    {
     "name": "stderr",
     "output_type": "stream",
     "text": [
      "Setting `pad_token_id` to `eos_token_id`:50256 for open-end generation.\n"
     ]
    },
    {
     "name": "stdout",
     "output_type": "stream",
     "text": [
      "Batch 1300 of 2169. Loss:0.1922888606786728. Time:0:08:29\n",
      "\tExample output:  openlyYou’re certainly not a stranger to criticism – never mind to the point of being so angry – so why are you being so sensitive?\n"
     ]
    },
    {
     "name": "stderr",
     "output_type": "stream",
     "text": [
      "Setting `pad_token_id` to `eos_token_id`:50256 for open-end generation.\n"
     ]
    },
    {
     "name": "stdout",
     "output_type": "stream",
     "text": [
      "Batch 1400 of 2169. Loss:0.17773789167404175. Time:0:09:08\n",
      "\tExample output:  haltedYou may be eager to get things done but you must not allow your physical, emotional or financial needs to get in the way.\n"
     ]
    },
    {
     "name": "stderr",
     "output_type": "stream",
     "text": [
      "Setting `pad_token_id` to `eos_token_id`:50256 for open-end generation.\n"
     ]
    },
    {
     "name": "stdout",
     "output_type": "stream",
     "text": [
      "Batch 1500 of 2169. Loss:0.17762455344200134. Time:0:09:48\n",
      "\tExample output:  NikBehold, my hand moves quickly; behold, the dragon hath wings like unto his lion, and his tail beats his head, and his mouth beats up his tongue to the heaven of the saints.\n"
     ]
    },
    {
     "name": "stderr",
     "output_type": "stream",
     "text": [
      "Setting `pad_token_id` to `eos_token_id`:50256 for open-end generation.\n"
     ]
    },
    {
     "name": "stdout",
     "output_type": "stream",
     "text": [
      "Batch 1600 of 2169. Loss:0.19663964211940765. Time:0:10:27\n",
      "\tExample output:  tinYou don’t need it though, because the only problem is that you may be feeling sorry for someone who has lost their temper.\n"
     ]
    },
    {
     "name": "stderr",
     "output_type": "stream",
     "text": [
      "Setting `pad_token_id` to `eos_token_id`:50256 for open-end generation.\n"
     ]
    },
    {
     "name": "stdout",
     "output_type": "stream",
     "text": [
      "Batch 1700 of 2169. Loss:0.1584712117910385. Time:0:11:06\n",
      "\tExample output:  clinicalYou can’t get rid of them.\n"
     ]
    },
    {
     "name": "stderr",
     "output_type": "stream",
     "text": [
      "Setting `pad_token_id` to `eos_token_id`:50256 for open-end generation.\n"
     ]
    },
    {
     "name": "stdout",
     "output_type": "stream",
     "text": [
      "Batch 1800 of 2169. Loss:0.21334074437618256. Time:0:11:45\n",
      "\tExample output: lectionsThe time of your ultimate determination has arrived, but there is still a time.\n"
     ]
    },
    {
     "name": "stderr",
     "output_type": "stream",
     "text": [
      "Setting `pad_token_id` to `eos_token_id`:50256 for open-end generation.\n"
     ]
    },
    {
     "name": "stdout",
     "output_type": "stream",
     "text": [
      "Batch 1900 of 2169. Loss:0.14124445617198944. Time:0:12:24\n",
      "\tExample output: elsAccording to the planets you have got it wrong.\n"
     ]
    },
    {
     "name": "stderr",
     "output_type": "stream",
     "text": [
      "Setting `pad_token_id` to `eos_token_id`:50256 for open-end generation.\n"
     ]
    },
    {
     "name": "stdout",
     "output_type": "stream",
     "text": [
      "Batch 2000 of 2169. Loss:0.21089178323745728. Time:0:13:03\n",
      "\tExample output: labYour confidence is sky high at the moment and the fact is you can’t do all the things you normally do!\n"
     ]
    },
    {
     "name": "stderr",
     "output_type": "stream",
     "text": [
      "Setting `pad_token_id` to `eos_token_id`:50256 for open-end generation.\n"
     ]
    },
    {
     "name": "stdout",
     "output_type": "stream",
     "text": [
      "Batch 2100 of 2169. Loss:0.207636758685112. Time:0:13:42\n",
      "\tExample output:  tripleYes, you really have to be on top of the world.\n",
      "Average Training Loss: 0.18169695134809238. Epoch time: 0:14:09\n",
      "Validation loss: 0.19895296707687538. Validation Time: 0:00:29\n",
      "\n",
      "--------------------------------------------------------------------\n",
      "\n",
      "Beginning epoch 4 of 4...\n",
      "--------------------------------------------------------------------\n",
      "\n"
     ]
    },
    {
     "name": "stderr",
     "output_type": "stream",
     "text": [
      "Setting `pad_token_id` to `eos_token_id`:50256 for open-end generation.\n"
     ]
    },
    {
     "name": "stdout",
     "output_type": "stream",
     "text": [
      "Batch 100 of 2169. Loss:0.18065735697746277. Time:0:00:39\n",
      "\tExample output: 220It is not a pleasant feeling.\n"
     ]
    },
    {
     "name": "stderr",
     "output_type": "stream",
     "text": [
      "Setting `pad_token_id` to `eos_token_id`:50256 for open-end generation.\n"
     ]
    },
    {
     "name": "stdout",
     "output_type": "stream",
     "text": [
      "Batch 200 of 2169. Loss:0.14207567274570465. Time:0:01:18\n",
      "\tExample output:  SeeNo matter how many times you have failed in the past you will soon be back to what you are trying so hard to do.\n"
     ]
    },
    {
     "name": "stderr",
     "output_type": "stream",
     "text": [
      "Setting `pad_token_id` to `eos_token_id`:50256 for open-end generation.\n"
     ]
    },
    {
     "name": "stdout",
     "output_type": "stream",
     "text": [
      "Batch 300 of 2169. Loss:0.1634426862001419. Time:0:01:57\n",
      "\tExample output: @@You have been far too suspicious of late and now you need to get the evidence you need to make sure you don’t go off into another direction.\n"
     ]
    },
    {
     "name": "stderr",
     "output_type": "stream",
     "text": [
      "Setting `pad_token_id` to `eos_token_id`:50256 for open-end generation.\n"
     ]
    },
    {
     "name": "stdout",
     "output_type": "stream",
     "text": [
      "Batch 400 of 2169. Loss:0.1300000697374344. Time:0:02:36\n",
      "\tExample output:  hostIt is true that you are on the down side of the curve when it comes to money matters but in some ways it’s also true that you are on top of the curve.\n"
     ]
    },
    {
     "name": "stderr",
     "output_type": "stream",
     "text": [
      "Setting `pad_token_id` to `eos_token_id`:50256 for open-end generation.\n"
     ]
    },
    {
     "name": "stdout",
     "output_type": "stream",
     "text": [
      "Batch 500 of 2169. Loss:0.12931041419506073. Time:0:03:16\n",
      "\tExample output: roleYou are who you are for a reason and that’s something that needs to be understood.\n"
     ]
    },
    {
     "name": "stderr",
     "output_type": "stream",
     "text": [
      "Setting `pad_token_id` to `eos_token_id`:50256 for open-end generation.\n"
     ]
    },
    {
     "name": "stdout",
     "output_type": "stream",
     "text": [
      "Batch 600 of 2169. Loss:0.17290762066841125. Time:0:03:55\n",
      "\tExample output: iacAccording to the planets the only danger this week is you may spend too much time looking back and hoping you can get away with something you are not supposed to do.\n"
     ]
    },
    {
     "name": "stderr",
     "output_type": "stream",
     "text": [
      "Setting `pad_token_id` to `eos_token_id`:50256 for open-end generation.\n"
     ]
    },
    {
     "name": "stdout",
     "output_type": "stream",
     "text": [
      "Batch 700 of 2169. Loss:0.17083610594272614. Time:0:04:34\n",
      "\tExample output:  LDYou may believe that being able to control your temper is a way to \"stay out of trouble\" but in the greater scheme of things it isn’t.\n"
     ]
    },
    {
     "name": "stderr",
     "output_type": "stream",
     "text": [
      "Setting `pad_token_id` to `eos_token_id`:50256 for open-end generation.\n"
     ]
    },
    {
     "name": "stdout",
     "output_type": "stream",
     "text": [
      "Batch 800 of 2169. Loss:0.15766343474388123. Time:0:05:14\n",
      "\tExample output:  ListenYou don’t have to be afraid of what others might think of you, you just have to be willing to take risks and risk everything.\n"
     ]
    },
    {
     "name": "stderr",
     "output_type": "stream",
     "text": [
      "Setting `pad_token_id` to `eos_token_id`:50256 for open-end generation.\n"
     ]
    },
    {
     "name": "stdout",
     "output_type": "stream",
     "text": [
      "Batch 900 of 2169. Loss:0.1476852148771286. Time:0:05:53\n",
      "\tExample output:  dyYou need to be a bit more flexible and try to stay on the straight and narrow over the next few days, especially on the career front.\n"
     ]
    },
    {
     "name": "stderr",
     "output_type": "stream",
     "text": [
      "Setting `pad_token_id` to `eos_token_id`:50256 for open-end generation.\n"
     ]
    },
    {
     "name": "stdout",
     "output_type": "stream",
     "text": [
      "Batch 1000 of 2169. Loss:0.16584162414073944. Time:0:06:32\n",
      "\tExample output:  DomesticDon’t push yourself too hard today because what happens this weekend will make you dynamic enough to carry on in the present.\n"
     ]
    },
    {
     "name": "stderr",
     "output_type": "stream",
     "text": [
      "Setting `pad_token_id` to `eos_token_id`:50256 for open-end generation.\n"
     ]
    },
    {
     "name": "stdout",
     "output_type": "stream",
     "text": [
      "Batch 1100 of 2169. Loss:0.14428770542144775. Time:0:07:11\n",
      "\tExample output:  beneficiariesIf you go looking for it today don’t give up hope.\n"
     ]
    },
    {
     "name": "stderr",
     "output_type": "stream",
     "text": [
      "Setting `pad_token_id` to `eos_token_id`:50256 for open-end generation.\n"
     ]
    },
    {
     "name": "stdout",
     "output_type": "stream",
     "text": [
      "Batch 1200 of 2169. Loss:0.1796332597732544. Time:0:07:50\n",
      "\tExample output:  TitleMake it easy for you to be assertive today, even if you think it’s the last thing you need to do.\n"
     ]
    },
    {
     "name": "stderr",
     "output_type": "stream",
     "text": [
      "Setting `pad_token_id` to `eos_token_id`:50256 for open-end generation.\n"
     ]
    },
    {
     "name": "stdout",
     "output_type": "stream",
     "text": [
      "Batch 1300 of 2169. Loss:0.16442589461803436. Time:0:08:30\n",
      "\tExample output:  μIf you are wise you will use it to get what you want this weekend, but if you are not it could cost you more.\n"
     ]
    },
    {
     "name": "stderr",
     "output_type": "stream",
     "text": [
      "Setting `pad_token_id` to `eos_token_id`:50256 for open-end generation.\n"
     ]
    },
    {
     "name": "stdout",
     "output_type": "stream",
     "text": [
      "Batch 1400 of 2169. Loss:0.1719135046005249. Time:0:09:09\n",
      "\tExample output:  sellingYou will learn something today or tomorrow that others have missed, simply because they don’t realize how easy it is.\n"
     ]
    },
    {
     "name": "stderr",
     "output_type": "stream",
     "text": [
      "Setting `pad_token_id` to `eos_token_id`:50256 for open-end generation.\n"
     ]
    },
    {
     "name": "stdout",
     "output_type": "stream",
     "text": [
      "Batch 1500 of 2169. Loss:0.21505841612815857. Time:0:09:48\n",
      "\tExample output:  migrantYes, of course, you have responsibilities of your own, but as an Aries they can do as they please.\n"
     ]
    },
    {
     "name": "stderr",
     "output_type": "stream",
     "text": [
      "Setting `pad_token_id` to `eos_token_id`:50256 for open-end generation.\n"
     ]
    },
    {
     "name": "stdout",
     "output_type": "stream",
     "text": [
      "Batch 1600 of 2169. Loss:0.1639297604560852. Time:0:10:27\n",
      "\tExample output: ivelyYour instincts are telling you that you will be thrust into the spotlight without a backward glance, but can you really expect them to be so dynamic?\n"
     ]
    },
    {
     "name": "stderr",
     "output_type": "stream",
     "text": [
      "Setting `pad_token_id` to `eos_token_id`:50256 for open-end generation.\n"
     ]
    },
    {
     "name": "stdout",
     "output_type": "stream",
     "text": [
      "Batch 1700 of 2169. Loss:0.2207673043012619. Time:0:11:07\n",
      "\tExample output:  orderA lot is changing in your world at the moment and as the week moves on it will be clear what needs to be done to make life better.\n"
     ]
    },
    {
     "name": "stderr",
     "output_type": "stream",
     "text": [
      "Setting `pad_token_id` to `eos_token_id`:50256 for open-end generation.\n"
     ]
    },
    {
     "name": "stdout",
     "output_type": "stream",
     "text": [
      "Batch 1800 of 2169. Loss:0.2133551836013794. Time:0:11:46\n",
      "\tExample output:  VPNSomething that has kept you attached to the past will be swept away over the next few days.\n"
     ]
    },
    {
     "name": "stderr",
     "output_type": "stream",
     "text": [
      "Setting `pad_token_id` to `eos_token_id`:50256 for open-end generation.\n"
     ]
    },
    {
     "name": "stdout",
     "output_type": "stream",
     "text": [
      "Batch 1900 of 2169. Loss:0.169855996966362. Time:0:12:25\n",
      "\tExample output:  explanationDon’t waste time lamenting what went wrong and don’t go over the top.\n"
     ]
    },
    {
     "name": "stderr",
     "output_type": "stream",
     "text": [
      "Setting `pad_token_id` to `eos_token_id`:50256 for open-end generation.\n"
     ]
    },
    {
     "name": "stdout",
     "output_type": "stream",
     "text": [
      "Batch 2000 of 2169. Loss:0.15450499951839447. Time:0:13:04\n",
      "\tExample output:  BachBut for when we define the ego—self-consciousness as the spontaneous movement of human consciousness between conscious and unconscious—that is the only meaningful unity which can have between the two.\n"
     ]
    },
    {
     "name": "stderr",
     "output_type": "stream",
     "text": [
      "Setting `pad_token_id` to `eos_token_id`:50256 for open-end generation.\n"
     ]
    },
    {
     "name": "stdout",
     "output_type": "stream",
     "text": [
      "Batch 2100 of 2169. Loss:0.1744973361492157. Time:0:13:43\n",
      "\tExample output:  folderThis is potentially one of the best weekends of the year for you as Mercury moves into your opposite sign of Pisces tomorrow.\n",
      "Average Training Loss: 0.164469825532399. Epoch time: 0:14:10\n",
      "Validation loss: 0.19929574408348172. Validation Time: 0:00:29\n",
      "\n",
      "--------------------------------------------------------------------\n",
      "\n",
      "====================================================================\n",
      "\n",
      "Training complete!\n",
      "Total training time: 0:58:37\n"
     ]
    }
   ],
   "source": [
    "import random\n",
    "import time\n",
    "import datetime\n",
    "\n",
    "def format_time(elapsed):\n",
    "    return str(datetime.timedelta(seconds=int(round((elapsed)))))\n",
    "\n",
    "total_t0 = time.time()\n",
    "\n",
    "training_stats = []\n",
    "\n",
    "model = model.to(device)\n",
    "\n",
    "for epoch_i in range(0, epochs):\n",
    "\n",
    "    print(f'Beginning epoch {epoch_i + 1} of {epochs}...')\n",
    "    print('--------------------------------------------------------------------\\n')\n",
    "\n",
    "    t0 = time.time()\n",
    "\n",
    "    total_train_loss = 0\n",
    "\n",
    "    model.train()\n",
    "\n",
    "    for step, batch in enumerate(train_dataloader):\n",
    "\n",
    "        b_input_ids = batch[0].to(device)\n",
    "        b_labels = batch[0].to(device)\n",
    "        b_masks = batch[1].to(device)\n",
    "\n",
    "        model.zero_grad()        \n",
    "\n",
    "        outputs = model(b_input_ids,\n",
    "                        labels=b_labels, \n",
    "                        attention_mask = b_masks,\n",
    "                        token_type_ids=None\n",
    "                        )\n",
    "\n",
    "        loss = outputs[0]  \n",
    "\n",
    "        batch_loss = loss.item()\n",
    "        total_train_loss += batch_loss\n",
    "\n",
    "        # Get sample every 100 batches.\n",
    "        if step % sample_every == 0 and not step == 0:\n",
    "\n",
    "            elapsed = format_time(time.time() - t0)\n",
    "            print(f'Batch {step} of {len(train_dataloader)}. Loss:{batch_loss}. Time:{elapsed}')\n",
    "\n",
    "            model.eval()\n",
    "\n",
    "            sample_outputs = model.generate(\n",
    "                                    bos_token_id=random.randint(1,30000),\n",
    "                                    do_sample=True,   \n",
    "                                    top_k=50, \n",
    "                                    max_length = 200,\n",
    "                                    top_p=0.95, \n",
    "                                    num_return_sequences=1\n",
    "                                )\n",
    "            \n",
    "            for i, sample_output in enumerate(sample_outputs):\n",
    "                  print(f'----> Example output: {tokenizer.decode(sample_output, skip_special_tokens=True)}')\n",
    "            \n",
    "            model.train()\n",
    "\n",
    "        loss.backward()\n",
    "\n",
    "        optimizer.step()\n",
    "\n",
    "        scheduler.step()\n",
    "\n",
    "    # Calculate the average loss over all of the batches.\n",
    "    avg_train_loss = total_train_loss / len(train_dataloader)       \n",
    "    \n",
    "    # Measure how long this epoch took.\n",
    "    training_time = format_time(time.time() - t0)\n",
    "\n",
    "    print('\\n--------------------------------------------------------------------')\n",
    "    print(f'Average Training Loss: {avg_train_loss}. Epoch time: {training_time}')\n",
    "    print('--------------------------------------------------------------------')\n",
    "    \n",
    "    t0 = time.time()\n",
    "\n",
    "    model.eval()\n",
    "\n",
    "    total_eval_loss = 0\n",
    "    nb_eval_steps = 0\n",
    "\n",
    "    # Evaluate data for one epoch\n",
    "    for batch in validation_dataloader:\n",
    "        \n",
    "        b_input_ids = batch[0].to(device)\n",
    "        b_labels = batch[0].to(device)\n",
    "        b_masks = batch[1].to(device)\n",
    "        \n",
    "        with torch.no_grad():        \n",
    "\n",
    "            outputs  = model(b_input_ids,  \n",
    "                             attention_mask = b_masks,\n",
    "                             labels=b_labels)\n",
    "          \n",
    "            loss = outputs[0]  \n",
    "            \n",
    "        batch_loss = loss.item()\n",
    "        total_eval_loss += batch_loss        \n",
    "\n",
    "    avg_val_loss = total_eval_loss / len(validation_dataloader)\n",
    "    \n",
    "    validation_time = format_time(time.time() - t0)    \n",
    "\n",
    "    print('\\n--------------------------------------------------------------------')\n",
    "    print(f'Validation loss: {avg_val_loss}. Validation Time: {validation_time}')\n",
    "    print('--------------------------------------------------------------------\\n')\n",
    "\n",
    "    # Record all statistics from this epoch.\n",
    "    training_stats.append(\n",
    "        {\n",
    "            'epoch': epoch_i + 1,\n",
    "            'Training Loss': avg_train_loss,\n",
    "            'Valid. Loss': avg_val_loss,\n",
    "            'Training Time': training_time,\n",
    "            'Validation Time': validation_time\n",
    "        }\n",
    "        )\n",
    "\n",
    "print('====================================================================\\n')\n",
    "print('Training complete!')\n",
    "print(f'Total training time: {format_time(time.time()-total_t0)}')"
   ]
  },
  {
   "cell_type": "markdown",
   "metadata": {
    "id": "IDf1H5j5Woi9"
   },
   "source": [
    "### Model Evaluation"
   ]
  },
  {
   "cell_type": "code",
   "execution_count": null,
   "metadata": {
    "colab": {
     "base_uri": "https://localhost:8080/",
     "height": 427
    },
    "id": "ZxnJSZM9d5er",
    "outputId": "7d40ba43-c34d-4be3-ce80-de3965158806"
   },
   "outputs": [
    {
     "data": {
      "image/png": "[encoded data removed]",
      "text/plain": [
       "<Figure size 864x432 with 1 Axes>"
      ]
     },
     "metadata": {
      "tags": []
     },
     "output_type": "display_data"
    }
   ],
   "source": [
    "import seaborn as sns\n",
    "import matplotlib.pyplot as plt\n",
    "% matplotlib inline\n",
    "\n",
    "pd.set_option('precision', 2)\n",
    "df_stats = pd.DataFrame(data=training_stats)\n",
    "df_stats = df_stats.set_index('epoch')\n",
    "\n",
    "# Use plot styling from seaborn.\n",
    "sns.set(style='whitegrid')\n",
    "\n",
    "# Increase the plot size and font size.\n",
    "sns.set(font_scale=1.5)\n",
    "plt.figure(figsize=(12,6))\n",
    "\n",
    "# Plot the learning curve.\n",
    "plt.plot(df_stats['Training Loss'], 'b-o', label=\"Training\")\n",
    "plt.plot(df_stats['Valid. Loss'], 'g-o', label=\"Validation\")\n",
    "\n",
    "# Label the plot.\n",
    "plt.title(\"Training & Validation Loss\")\n",
    "plt.xlabel(\"Epoch\")\n",
    "plt.ylabel(\"Loss\")\n",
    "plt.legend()\n",
    "plt.xticks([1, 2, 3, 4])\n",
    "\n",
    "plt.show()"
   ]
  },
  {
   "cell_type": "markdown",
   "metadata": {
    "id": "OaeYVKoKfWhR"
   },
   "source": [
    "Looks like there's a bit of overfitting happening towards the end of the training loop -- I'll sample some output and decide whether or not train again."
   ]
  },
  {
   "cell_type": "code",
   "execution_count": null,
   "metadata": {
    "colab": {
     "base_uri": "https://localhost:8080/"
    },
    "id": "tUsyKddHY8bE",
    "outputId": "dba5480a-aa18-406b-c6e3-26a933b0eca7"
   },
   "outputs": [
    {
     "name": "stderr",
     "output_type": "stream",
     "text": [
      "Setting `pad_token_id` to `eos_token_id`:50256 for open-end generation.\n"
     ]
    },
    {
     "name": "stdout",
     "output_type": "stream",
     "text": [
      "0: If you say too much it may be necessary to hurt a friend’s feelings.\n",
      "\n",
      "1: You will go out of your way today to impress people in positions of authority, even those who clearly don’t share your principles.\n",
      "\n",
      "2: That applies especially to your work as it will pay you to be a bit more assertive today.\n",
      "\n",
      "3: The planets warn you could easily go over the top and let slip some kind of personal advantage.\n",
      "\n",
      "4: If you come across as rude and uncaring today then by all means make a few apologies.\n",
      "\n",
      "5: Your confidence is sky-high at the moment and that’s good because a new solar year begins very soon, so don’t give up on a plan yet.\n",
      "\n",
      "6: The more certain people tell you that you should not fight against them the more determined you should be to do the right thing, to stay on top of the facts.\n",
      "\n",
      "7: You seem a bit fragile at the moment.\n",
      "\n",
      "8: You are not that far behind the curve when it comes to other people’s achievements.\n",
      "\n",
      "9: You’ve got the talent, but it takes an individual to be superhuman – and your powers of persuasion don’t have to be stupid.\n",
      "\n"
     ]
    }
   ],
   "source": [
    "model.eval()\n",
    "\n",
    "prompt = \"<|startoftext|>\"\n",
    "#prompt = 'How can'\n",
    "#prompt = 'The '\n",
    "\n",
    "generated = torch.tensor(tokenizer.encode(prompt)).unsqueeze(0)\n",
    "generated = generated.to(device)\n",
    "\n",
    "sample_outputs = model.generate(\n",
    "                                generated, \n",
    "                                do_sample=True,   \n",
    "                                top_k=50, \n",
    "                                max_length = 300,\n",
    "                                top_p=0.95, \n",
    "                                num_return_sequences=10\n",
    "                                )\n",
    "\n",
    "for i, sample_output in enumerate(sample_outputs):\n",
    "  print(\"{}: {}\\n\".format(i, tokenizer.decode(sample_output, skip_special_tokens=True)))  "
   ]
  },
  {
   "cell_type": "markdown",
   "metadata": {
    "id": "DfzNsUPXfq_V"
   },
   "source": [
    "I'm pretty happy with this - I'll save the model and generate output for the cards in the next notebook."
   ]
  },
  {
   "cell_type": "markdown",
   "metadata": {
    "id": "fLdVs6cGuWYt"
   },
   "source": [
    "## Saving the model"
   ]
  },
  {
   "cell_type": "code",
   "execution_count": null,
   "metadata": {
    "colab": {
     "base_uri": "https://localhost:8080/"
    },
    "id": "r6us6IyGuWHW",
    "outputId": "e70af21c-c6af-4c1a-b109-ea2b52112a39"
   },
   "outputs": [
    {
     "data": {
      "text/plain": [
       "('/content/drive/MyDrive/gpt2/models/model_2/tokenizer_config.json',\n",
       " '/content/drive/MyDrive/gpt2/models/model_2/special_tokens_map.json',\n",
       " '/content/drive/MyDrive/gpt2/models/model_2/vocab.json',\n",
       " '/content/drive/MyDrive/gpt2/models/model_2/merges.txt',\n",
       " '/content/drive/MyDrive/gpt2/models/model_2/added_tokens.json')"
      ]
     },
     "execution_count": 31,
     "metadata": {
      "tags": []
     },
     "output_type": "execute_result"
    }
   ],
   "source": [
    "dir = '/content/drive/MyDrive/gpt2/models'\n",
    "model_folder = '/model_2'\n",
    "\n",
    "output_dir = dir + model_folder\n",
    "\n",
    "\n",
    "model_to_save = model.module if hasattr(model, 'module') else model\n",
    "model_to_save.save_pretrained(output_dir)\n",
    "tokenizer.save_pretrained(output_dir)"
   ]
  }
 ],
 "metadata": {
  "accelerator": "GPU",
  "colab": {
   "collapsed_sections": [],
   "machine_shape": "hm",
   "name": "fine_tuning_gpt2.ipynb",
   "provenance": [],
   "toc_visible": true
  },
  "kernelspec": {
   "display_name": "Python 3",
   "language": "python",
   "name": "python3"
  },
  "language_info": {
   "codemirror_mode": {
    "name": "ipython",
    "version": 3
   },
   "file_extension": ".py",
   "mimetype": "text/x-python",
   "name": "python",
   "nbconvert_exporter": "python",
   "pygments_lexer": "ipython3",
   "version": "3.8.5"
  },
  "toc": {
   "base_numbering": 1,
   "nav_menu": {},
   "number_sections": true,
   "sideBar": true,
   "skip_h1_title": false,
   "title_cell": "Table of Contents",
   "title_sidebar": "Contents",
   "toc_cell": false,
   "toc_position": {},
   "toc_section_display": true,
   "toc_window_display": false
  },
  "varInspector": {
   "cols": {
    "lenName": 16,
    "lenType": 16,
    "lenVar": 40
   },
   "kernels_config": {
    "python": {
     "delete_cmd_postfix": "",
     "delete_cmd_prefix": "del ",
     "library": "var_list.py",
     "varRefreshCmd": "print(var_dic_list())"
    },
    "r": {
     "delete_cmd_postfix": ") ",
     "delete_cmd_prefix": "rm(",
     "library": "var_list.r",
     "varRefreshCmd": "cat(var_dic_list()) "
    }
   },
   "types_to_exclude": [
    "module",
    "function",
    "builtin_function_or_method",
    "instance",
    "_Feature"
   ],
   "window_display": false
  }
 },
 "nbformat": 4,
 "nbformat_minor": 1
}
